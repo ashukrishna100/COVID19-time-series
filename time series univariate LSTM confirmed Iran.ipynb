{
 "cells": [
  {
   "cell_type": "code",
   "execution_count": 1,
   "metadata": {},
   "outputs": [],
   "source": [
    "import pandas as pd\n",
    "import numpy as np\n",
    "import matplotlib.pyplot as plt\n",
    "%matplotlib inline"
   ]
  },
  {
   "cell_type": "code",
   "execution_count": 2,
   "metadata": {},
   "outputs": [],
   "source": [
    "url = \"https://raw.githubusercontent.com/CSSEGISandData/COVID-19/master/csse_covid_19_data/csse_covid_19_time_series/time_series_covid19_confirmed_global.csv\"\n",
    "df_confirmed = pd.read_csv(url)"
   ]
  },
  {
   "cell_type": "code",
   "execution_count": 3,
   "metadata": {},
   "outputs": [
    {
     "data": {
      "text/html": [
       "<div>\n",
       "<style scoped>\n",
       "    .dataframe tbody tr th:only-of-type {\n",
       "        vertical-align: middle;\n",
       "    }\n",
       "\n",
       "    .dataframe tbody tr th {\n",
       "        vertical-align: top;\n",
       "    }\n",
       "\n",
       "    .dataframe thead th {\n",
       "        text-align: right;\n",
       "    }\n",
       "</style>\n",
       "<table border=\"1\" class=\"dataframe\">\n",
       "  <thead>\n",
       "    <tr style=\"text-align: right;\">\n",
       "      <th></th>\n",
       "      <th>Province/State</th>\n",
       "      <th>Country/Region</th>\n",
       "      <th>Lat</th>\n",
       "      <th>Long</th>\n",
       "      <th>1/22/20</th>\n",
       "      <th>1/23/20</th>\n",
       "      <th>1/24/20</th>\n",
       "      <th>1/25/20</th>\n",
       "      <th>1/26/20</th>\n",
       "      <th>1/27/20</th>\n",
       "      <th>...</th>\n",
       "      <th>3/19/20</th>\n",
       "      <th>3/20/20</th>\n",
       "      <th>3/21/20</th>\n",
       "      <th>3/22/20</th>\n",
       "      <th>3/23/20</th>\n",
       "      <th>3/24/20</th>\n",
       "      <th>3/25/20</th>\n",
       "      <th>3/26/20</th>\n",
       "      <th>3/27/20</th>\n",
       "      <th>3/28/20</th>\n",
       "    </tr>\n",
       "  </thead>\n",
       "  <tbody>\n",
       "    <tr>\n",
       "      <td>0</td>\n",
       "      <td>NaN</td>\n",
       "      <td>Afghanistan</td>\n",
       "      <td>33.0000</td>\n",
       "      <td>65.0000</td>\n",
       "      <td>0</td>\n",
       "      <td>0</td>\n",
       "      <td>0</td>\n",
       "      <td>0</td>\n",
       "      <td>0</td>\n",
       "      <td>0</td>\n",
       "      <td>...</td>\n",
       "      <td>22</td>\n",
       "      <td>24</td>\n",
       "      <td>24</td>\n",
       "      <td>40</td>\n",
       "      <td>40</td>\n",
       "      <td>74</td>\n",
       "      <td>84</td>\n",
       "      <td>94</td>\n",
       "      <td>110</td>\n",
       "      <td>110</td>\n",
       "    </tr>\n",
       "    <tr>\n",
       "      <td>1</td>\n",
       "      <td>NaN</td>\n",
       "      <td>Albania</td>\n",
       "      <td>41.1533</td>\n",
       "      <td>20.1683</td>\n",
       "      <td>0</td>\n",
       "      <td>0</td>\n",
       "      <td>0</td>\n",
       "      <td>0</td>\n",
       "      <td>0</td>\n",
       "      <td>0</td>\n",
       "      <td>...</td>\n",
       "      <td>64</td>\n",
       "      <td>70</td>\n",
       "      <td>76</td>\n",
       "      <td>89</td>\n",
       "      <td>104</td>\n",
       "      <td>123</td>\n",
       "      <td>146</td>\n",
       "      <td>174</td>\n",
       "      <td>186</td>\n",
       "      <td>197</td>\n",
       "    </tr>\n",
       "    <tr>\n",
       "      <td>2</td>\n",
       "      <td>NaN</td>\n",
       "      <td>Algeria</td>\n",
       "      <td>28.0339</td>\n",
       "      <td>1.6596</td>\n",
       "      <td>0</td>\n",
       "      <td>0</td>\n",
       "      <td>0</td>\n",
       "      <td>0</td>\n",
       "      <td>0</td>\n",
       "      <td>0</td>\n",
       "      <td>...</td>\n",
       "      <td>87</td>\n",
       "      <td>90</td>\n",
       "      <td>139</td>\n",
       "      <td>201</td>\n",
       "      <td>230</td>\n",
       "      <td>264</td>\n",
       "      <td>302</td>\n",
       "      <td>367</td>\n",
       "      <td>409</td>\n",
       "      <td>454</td>\n",
       "    </tr>\n",
       "    <tr>\n",
       "      <td>3</td>\n",
       "      <td>NaN</td>\n",
       "      <td>Andorra</td>\n",
       "      <td>42.5063</td>\n",
       "      <td>1.5218</td>\n",
       "      <td>0</td>\n",
       "      <td>0</td>\n",
       "      <td>0</td>\n",
       "      <td>0</td>\n",
       "      <td>0</td>\n",
       "      <td>0</td>\n",
       "      <td>...</td>\n",
       "      <td>53</td>\n",
       "      <td>75</td>\n",
       "      <td>88</td>\n",
       "      <td>113</td>\n",
       "      <td>133</td>\n",
       "      <td>164</td>\n",
       "      <td>188</td>\n",
       "      <td>224</td>\n",
       "      <td>267</td>\n",
       "      <td>308</td>\n",
       "    </tr>\n",
       "    <tr>\n",
       "      <td>4</td>\n",
       "      <td>NaN</td>\n",
       "      <td>Angola</td>\n",
       "      <td>-11.2027</td>\n",
       "      <td>17.8739</td>\n",
       "      <td>0</td>\n",
       "      <td>0</td>\n",
       "      <td>0</td>\n",
       "      <td>0</td>\n",
       "      <td>0</td>\n",
       "      <td>0</td>\n",
       "      <td>...</td>\n",
       "      <td>0</td>\n",
       "      <td>1</td>\n",
       "      <td>2</td>\n",
       "      <td>2</td>\n",
       "      <td>3</td>\n",
       "      <td>3</td>\n",
       "      <td>3</td>\n",
       "      <td>4</td>\n",
       "      <td>4</td>\n",
       "      <td>5</td>\n",
       "    </tr>\n",
       "  </tbody>\n",
       "</table>\n",
       "<p>5 rows × 71 columns</p>\n",
       "</div>"
      ],
      "text/plain": [
       "  Province/State Country/Region      Lat     Long  1/22/20  1/23/20  1/24/20  \\\n",
       "0            NaN    Afghanistan  33.0000  65.0000        0        0        0   \n",
       "1            NaN        Albania  41.1533  20.1683        0        0        0   \n",
       "2            NaN        Algeria  28.0339   1.6596        0        0        0   \n",
       "3            NaN        Andorra  42.5063   1.5218        0        0        0   \n",
       "4            NaN         Angola -11.2027  17.8739        0        0        0   \n",
       "\n",
       "   1/25/20  1/26/20  1/27/20  ...  3/19/20  3/20/20  3/21/20  3/22/20  \\\n",
       "0        0        0        0  ...       22       24       24       40   \n",
       "1        0        0        0  ...       64       70       76       89   \n",
       "2        0        0        0  ...       87       90      139      201   \n",
       "3        0        0        0  ...       53       75       88      113   \n",
       "4        0        0        0  ...        0        1        2        2   \n",
       "\n",
       "   3/23/20  3/24/20  3/25/20  3/26/20  3/27/20  3/28/20  \n",
       "0       40       74       84       94      110      110  \n",
       "1      104      123      146      174      186      197  \n",
       "2      230      264      302      367      409      454  \n",
       "3      133      164      188      224      267      308  \n",
       "4        3        3        3        4        4        5  \n",
       "\n",
       "[5 rows x 71 columns]"
      ]
     },
     "execution_count": 3,
     "metadata": {},
     "output_type": "execute_result"
    }
   ],
   "source": [
    "df_confirmed.head()"
   ]
  },
  {
   "cell_type": "code",
   "execution_count": 4,
   "metadata": {},
   "outputs": [],
   "source": [
    "country = \"Iran\""
   ]
  },
  {
   "cell_type": "code",
   "execution_count": 5,
   "metadata": {},
   "outputs": [],
   "source": [
    "df_confirmed1 = df_confirmed[df_confirmed[\"Country/Region\"] == country]"
   ]
  },
  {
   "cell_type": "code",
   "execution_count": 6,
   "metadata": {},
   "outputs": [
    {
     "data": {
      "text/html": [
       "<div>\n",
       "<style scoped>\n",
       "    .dataframe tbody tr th:only-of-type {\n",
       "        vertical-align: middle;\n",
       "    }\n",
       "\n",
       "    .dataframe tbody tr th {\n",
       "        vertical-align: top;\n",
       "    }\n",
       "\n",
       "    .dataframe thead th {\n",
       "        text-align: right;\n",
       "    }\n",
       "</style>\n",
       "<table border=\"1\" class=\"dataframe\">\n",
       "  <thead>\n",
       "    <tr style=\"text-align: right;\">\n",
       "      <th></th>\n",
       "      <th>Province/State</th>\n",
       "      <th>Country/Region</th>\n",
       "      <th>Lat</th>\n",
       "      <th>Long</th>\n",
       "      <th>1/22/20</th>\n",
       "      <th>1/23/20</th>\n",
       "      <th>1/24/20</th>\n",
       "      <th>1/25/20</th>\n",
       "      <th>1/26/20</th>\n",
       "      <th>1/27/20</th>\n",
       "      <th>...</th>\n",
       "      <th>3/19/20</th>\n",
       "      <th>3/20/20</th>\n",
       "      <th>3/21/20</th>\n",
       "      <th>3/22/20</th>\n",
       "      <th>3/23/20</th>\n",
       "      <th>3/24/20</th>\n",
       "      <th>3/25/20</th>\n",
       "      <th>3/26/20</th>\n",
       "      <th>3/27/20</th>\n",
       "      <th>3/28/20</th>\n",
       "    </tr>\n",
       "  </thead>\n",
       "  <tbody>\n",
       "    <tr>\n",
       "      <td>133</td>\n",
       "      <td>NaN</td>\n",
       "      <td>Iran</td>\n",
       "      <td>32.0</td>\n",
       "      <td>53.0</td>\n",
       "      <td>0</td>\n",
       "      <td>0</td>\n",
       "      <td>0</td>\n",
       "      <td>0</td>\n",
       "      <td>0</td>\n",
       "      <td>0</td>\n",
       "      <td>...</td>\n",
       "      <td>18407</td>\n",
       "      <td>19644</td>\n",
       "      <td>20610</td>\n",
       "      <td>21638</td>\n",
       "      <td>23049</td>\n",
       "      <td>24811</td>\n",
       "      <td>27017</td>\n",
       "      <td>29406</td>\n",
       "      <td>32332</td>\n",
       "      <td>35408</td>\n",
       "    </tr>\n",
       "  </tbody>\n",
       "</table>\n",
       "<p>1 rows × 71 columns</p>\n",
       "</div>"
      ],
      "text/plain": [
       "    Province/State Country/Region   Lat  Long  1/22/20  1/23/20  1/24/20  \\\n",
       "133            NaN           Iran  32.0  53.0        0        0        0   \n",
       "\n",
       "     1/25/20  1/26/20  1/27/20  ...  3/19/20  3/20/20  3/21/20  3/22/20  \\\n",
       "133        0        0        0  ...    18407    19644    20610    21638   \n",
       "\n",
       "     3/23/20  3/24/20  3/25/20  3/26/20  3/27/20  3/28/20  \n",
       "133    23049    24811    27017    29406    32332    35408  \n",
       "\n",
       "[1 rows x 71 columns]"
      ]
     },
     "execution_count": 6,
     "metadata": {},
     "output_type": "execute_result"
    }
   ],
   "source": [
    "df_confirmed1"
   ]
  },
  {
   "cell_type": "code",
   "execution_count": 7,
   "metadata": {},
   "outputs": [
    {
     "data": {
      "text/html": [
       "<div>\n",
       "<style scoped>\n",
       "    .dataframe tbody tr th:only-of-type {\n",
       "        vertical-align: middle;\n",
       "    }\n",
       "\n",
       "    .dataframe tbody tr th {\n",
       "        vertical-align: top;\n",
       "    }\n",
       "\n",
       "    .dataframe thead th {\n",
       "        text-align: right;\n",
       "    }\n",
       "</style>\n",
       "<table border=\"1\" class=\"dataframe\">\n",
       "  <thead>\n",
       "    <tr style=\"text-align: right;\">\n",
       "      <th></th>\n",
       "      <th>confirmed</th>\n",
       "    </tr>\n",
       "  </thead>\n",
       "  <tbody>\n",
       "    <tr>\n",
       "      <td>2020-03-24</td>\n",
       "      <td>24811</td>\n",
       "    </tr>\n",
       "    <tr>\n",
       "      <td>2020-03-25</td>\n",
       "      <td>27017</td>\n",
       "    </tr>\n",
       "    <tr>\n",
       "      <td>2020-03-26</td>\n",
       "      <td>29406</td>\n",
       "    </tr>\n",
       "    <tr>\n",
       "      <td>2020-03-27</td>\n",
       "      <td>32332</td>\n",
       "    </tr>\n",
       "    <tr>\n",
       "      <td>2020-03-28</td>\n",
       "      <td>35408</td>\n",
       "    </tr>\n",
       "  </tbody>\n",
       "</table>\n",
       "</div>"
      ],
      "text/plain": [
       "            confirmed\n",
       "2020-03-24      24811\n",
       "2020-03-25      27017\n",
       "2020-03-26      29406\n",
       "2020-03-27      32332\n",
       "2020-03-28      35408"
      ]
     },
     "execution_count": 7,
     "metadata": {},
     "output_type": "execute_result"
    }
   ],
   "source": [
    "## structuring times eries data\n",
    "df_confirmed2 = pd.DataFrame(df_confirmed1[df_confirmed1.columns[4:]].sum(),columns=[\"confirmed\"])\n",
    "df_confirmed2.index = pd.to_datetime(df_confirmed2.index,format='%m/%d/%y')\n",
    "df_confirmed2.tail()"
   ]
  },
  {
   "cell_type": "code",
   "execution_count": 8,
   "metadata": {},
   "outputs": [],
   "source": [
    "## total dead\n",
    "df_dead = pd.read_csv(\"https://raw.githubusercontent.com/CSSEGISandData/COVID-19/master/csse_covid_19_data/csse_covid_19_time_series/time_series_covid19_deaths_global.csv\")"
   ]
  },
  {
   "cell_type": "code",
   "execution_count": 9,
   "metadata": {},
   "outputs": [
    {
     "data": {
      "text/html": [
       "<div>\n",
       "<style scoped>\n",
       "    .dataframe tbody tr th:only-of-type {\n",
       "        vertical-align: middle;\n",
       "    }\n",
       "\n",
       "    .dataframe tbody tr th {\n",
       "        vertical-align: top;\n",
       "    }\n",
       "\n",
       "    .dataframe thead th {\n",
       "        text-align: right;\n",
       "    }\n",
       "</style>\n",
       "<table border=\"1\" class=\"dataframe\">\n",
       "  <thead>\n",
       "    <tr style=\"text-align: right;\">\n",
       "      <th></th>\n",
       "      <th>Province/State</th>\n",
       "      <th>Country/Region</th>\n",
       "      <th>Lat</th>\n",
       "      <th>Long</th>\n",
       "      <th>1/22/20</th>\n",
       "      <th>1/23/20</th>\n",
       "      <th>1/24/20</th>\n",
       "      <th>1/25/20</th>\n",
       "      <th>1/26/20</th>\n",
       "      <th>1/27/20</th>\n",
       "      <th>...</th>\n",
       "      <th>3/19/20</th>\n",
       "      <th>3/20/20</th>\n",
       "      <th>3/21/20</th>\n",
       "      <th>3/22/20</th>\n",
       "      <th>3/23/20</th>\n",
       "      <th>3/24/20</th>\n",
       "      <th>3/25/20</th>\n",
       "      <th>3/26/20</th>\n",
       "      <th>3/27/20</th>\n",
       "      <th>3/28/20</th>\n",
       "    </tr>\n",
       "  </thead>\n",
       "  <tbody>\n",
       "    <tr>\n",
       "      <td>0</td>\n",
       "      <td>NaN</td>\n",
       "      <td>Afghanistan</td>\n",
       "      <td>33.0000</td>\n",
       "      <td>65.0000</td>\n",
       "      <td>0</td>\n",
       "      <td>0</td>\n",
       "      <td>0</td>\n",
       "      <td>0</td>\n",
       "      <td>0</td>\n",
       "      <td>0</td>\n",
       "      <td>...</td>\n",
       "      <td>0</td>\n",
       "      <td>0</td>\n",
       "      <td>0</td>\n",
       "      <td>1</td>\n",
       "      <td>1</td>\n",
       "      <td>1</td>\n",
       "      <td>2</td>\n",
       "      <td>4</td>\n",
       "      <td>4</td>\n",
       "      <td>4</td>\n",
       "    </tr>\n",
       "    <tr>\n",
       "      <td>1</td>\n",
       "      <td>NaN</td>\n",
       "      <td>Albania</td>\n",
       "      <td>41.1533</td>\n",
       "      <td>20.1683</td>\n",
       "      <td>0</td>\n",
       "      <td>0</td>\n",
       "      <td>0</td>\n",
       "      <td>0</td>\n",
       "      <td>0</td>\n",
       "      <td>0</td>\n",
       "      <td>...</td>\n",
       "      <td>2</td>\n",
       "      <td>2</td>\n",
       "      <td>2</td>\n",
       "      <td>2</td>\n",
       "      <td>4</td>\n",
       "      <td>5</td>\n",
       "      <td>5</td>\n",
       "      <td>6</td>\n",
       "      <td>8</td>\n",
       "      <td>10</td>\n",
       "    </tr>\n",
       "    <tr>\n",
       "      <td>2</td>\n",
       "      <td>NaN</td>\n",
       "      <td>Algeria</td>\n",
       "      <td>28.0339</td>\n",
       "      <td>1.6596</td>\n",
       "      <td>0</td>\n",
       "      <td>0</td>\n",
       "      <td>0</td>\n",
       "      <td>0</td>\n",
       "      <td>0</td>\n",
       "      <td>0</td>\n",
       "      <td>...</td>\n",
       "      <td>9</td>\n",
       "      <td>11</td>\n",
       "      <td>15</td>\n",
       "      <td>17</td>\n",
       "      <td>17</td>\n",
       "      <td>19</td>\n",
       "      <td>21</td>\n",
       "      <td>25</td>\n",
       "      <td>26</td>\n",
       "      <td>29</td>\n",
       "    </tr>\n",
       "    <tr>\n",
       "      <td>3</td>\n",
       "      <td>NaN</td>\n",
       "      <td>Andorra</td>\n",
       "      <td>42.5063</td>\n",
       "      <td>1.5218</td>\n",
       "      <td>0</td>\n",
       "      <td>0</td>\n",
       "      <td>0</td>\n",
       "      <td>0</td>\n",
       "      <td>0</td>\n",
       "      <td>0</td>\n",
       "      <td>...</td>\n",
       "      <td>0</td>\n",
       "      <td>0</td>\n",
       "      <td>0</td>\n",
       "      <td>1</td>\n",
       "      <td>1</td>\n",
       "      <td>1</td>\n",
       "      <td>1</td>\n",
       "      <td>3</td>\n",
       "      <td>3</td>\n",
       "      <td>3</td>\n",
       "    </tr>\n",
       "    <tr>\n",
       "      <td>4</td>\n",
       "      <td>NaN</td>\n",
       "      <td>Angola</td>\n",
       "      <td>-11.2027</td>\n",
       "      <td>17.8739</td>\n",
       "      <td>0</td>\n",
       "      <td>0</td>\n",
       "      <td>0</td>\n",
       "      <td>0</td>\n",
       "      <td>0</td>\n",
       "      <td>0</td>\n",
       "      <td>...</td>\n",
       "      <td>0</td>\n",
       "      <td>0</td>\n",
       "      <td>0</td>\n",
       "      <td>0</td>\n",
       "      <td>0</td>\n",
       "      <td>0</td>\n",
       "      <td>0</td>\n",
       "      <td>0</td>\n",
       "      <td>0</td>\n",
       "      <td>0</td>\n",
       "    </tr>\n",
       "  </tbody>\n",
       "</table>\n",
       "<p>5 rows × 71 columns</p>\n",
       "</div>"
      ],
      "text/plain": [
       "  Province/State Country/Region      Lat     Long  1/22/20  1/23/20  1/24/20  \\\n",
       "0            NaN    Afghanistan  33.0000  65.0000        0        0        0   \n",
       "1            NaN        Albania  41.1533  20.1683        0        0        0   \n",
       "2            NaN        Algeria  28.0339   1.6596        0        0        0   \n",
       "3            NaN        Andorra  42.5063   1.5218        0        0        0   \n",
       "4            NaN         Angola -11.2027  17.8739        0        0        0   \n",
       "\n",
       "   1/25/20  1/26/20  1/27/20  ...  3/19/20  3/20/20  3/21/20  3/22/20  \\\n",
       "0        0        0        0  ...        0        0        0        1   \n",
       "1        0        0        0  ...        2        2        2        2   \n",
       "2        0        0        0  ...        9       11       15       17   \n",
       "3        0        0        0  ...        0        0        0        1   \n",
       "4        0        0        0  ...        0        0        0        0   \n",
       "\n",
       "   3/23/20  3/24/20  3/25/20  3/26/20  3/27/20  3/28/20  \n",
       "0        1        1        2        4        4        4  \n",
       "1        4        5        5        6        8       10  \n",
       "2       17       19       21       25       26       29  \n",
       "3        1        1        1        3        3        3  \n",
       "4        0        0        0        0        0        0  \n",
       "\n",
       "[5 rows x 71 columns]"
      ]
     },
     "execution_count": 9,
     "metadata": {},
     "output_type": "execute_result"
    }
   ],
   "source": [
    "df_dead.head()"
   ]
  },
  {
   "cell_type": "code",
   "execution_count": 10,
   "metadata": {},
   "outputs": [],
   "source": [
    "df_dead1 = df_dead[df_dead[\"Country/Region\"] == country]"
   ]
  },
  {
   "cell_type": "code",
   "execution_count": 11,
   "metadata": {},
   "outputs": [
    {
     "data": {
      "text/html": [
       "<div>\n",
       "<style scoped>\n",
       "    .dataframe tbody tr th:only-of-type {\n",
       "        vertical-align: middle;\n",
       "    }\n",
       "\n",
       "    .dataframe tbody tr th {\n",
       "        vertical-align: top;\n",
       "    }\n",
       "\n",
       "    .dataframe thead th {\n",
       "        text-align: right;\n",
       "    }\n",
       "</style>\n",
       "<table border=\"1\" class=\"dataframe\">\n",
       "  <thead>\n",
       "    <tr style=\"text-align: right;\">\n",
       "      <th></th>\n",
       "      <th>dead</th>\n",
       "    </tr>\n",
       "  </thead>\n",
       "  <tbody>\n",
       "    <tr>\n",
       "      <td>2020-03-24</td>\n",
       "      <td>1934</td>\n",
       "    </tr>\n",
       "    <tr>\n",
       "      <td>2020-03-25</td>\n",
       "      <td>2077</td>\n",
       "    </tr>\n",
       "    <tr>\n",
       "      <td>2020-03-26</td>\n",
       "      <td>2234</td>\n",
       "    </tr>\n",
       "    <tr>\n",
       "      <td>2020-03-27</td>\n",
       "      <td>2378</td>\n",
       "    </tr>\n",
       "    <tr>\n",
       "      <td>2020-03-28</td>\n",
       "      <td>2517</td>\n",
       "    </tr>\n",
       "  </tbody>\n",
       "</table>\n",
       "</div>"
      ],
      "text/plain": [
       "            dead\n",
       "2020-03-24  1934\n",
       "2020-03-25  2077\n",
       "2020-03-26  2234\n",
       "2020-03-27  2378\n",
       "2020-03-28  2517"
      ]
     },
     "execution_count": 11,
     "metadata": {},
     "output_type": "execute_result"
    }
   ],
   "source": [
    "df_dead2 = pd.DataFrame(df_dead1[df_dead1.columns[4:]].sum(),columns=[\"dead\"])\n",
    "df_dead2.index = pd.to_datetime(df_dead2.index,format='%m/%d/%y')\n",
    "df_dead2.tail()"
   ]
  },
  {
   "cell_type": "code",
   "execution_count": 12,
   "metadata": {},
   "outputs": [],
   "source": [
    "### recovered\n",
    "df_recovered = pd.read_csv(\"https://raw.githubusercontent.com/CSSEGISandData/COVID-19/master/csse_covid_19_data/csse_covid_19_time_series/time_series_covid19_recovered_global.csv\")"
   ]
  },
  {
   "cell_type": "code",
   "execution_count": 13,
   "metadata": {},
   "outputs": [
    {
     "data": {
      "text/html": [
       "<div>\n",
       "<style scoped>\n",
       "    .dataframe tbody tr th:only-of-type {\n",
       "        vertical-align: middle;\n",
       "    }\n",
       "\n",
       "    .dataframe tbody tr th {\n",
       "        vertical-align: top;\n",
       "    }\n",
       "\n",
       "    .dataframe thead th {\n",
       "        text-align: right;\n",
       "    }\n",
       "</style>\n",
       "<table border=\"1\" class=\"dataframe\">\n",
       "  <thead>\n",
       "    <tr style=\"text-align: right;\">\n",
       "      <th></th>\n",
       "      <th>Province/State</th>\n",
       "      <th>Country/Region</th>\n",
       "      <th>Lat</th>\n",
       "      <th>Long</th>\n",
       "      <th>1/22/20</th>\n",
       "      <th>1/23/20</th>\n",
       "      <th>1/24/20</th>\n",
       "      <th>1/25/20</th>\n",
       "      <th>1/26/20</th>\n",
       "      <th>1/27/20</th>\n",
       "      <th>...</th>\n",
       "      <th>3/19/20</th>\n",
       "      <th>3/20/20</th>\n",
       "      <th>3/21/20</th>\n",
       "      <th>3/22/20</th>\n",
       "      <th>3/23/20</th>\n",
       "      <th>3/24/20</th>\n",
       "      <th>3/25/20</th>\n",
       "      <th>3/26/20</th>\n",
       "      <th>3/27/20</th>\n",
       "      <th>3/28/20</th>\n",
       "    </tr>\n",
       "  </thead>\n",
       "  <tbody>\n",
       "    <tr>\n",
       "      <td>0</td>\n",
       "      <td>NaN</td>\n",
       "      <td>Afghanistan</td>\n",
       "      <td>33.0000</td>\n",
       "      <td>65.0000</td>\n",
       "      <td>0</td>\n",
       "      <td>0</td>\n",
       "      <td>0</td>\n",
       "      <td>0</td>\n",
       "      <td>0</td>\n",
       "      <td>0</td>\n",
       "      <td>...</td>\n",
       "      <td>1</td>\n",
       "      <td>1</td>\n",
       "      <td>1</td>\n",
       "      <td>1</td>\n",
       "      <td>1</td>\n",
       "      <td>1</td>\n",
       "      <td>2</td>\n",
       "      <td>2</td>\n",
       "      <td>2</td>\n",
       "      <td>2</td>\n",
       "    </tr>\n",
       "    <tr>\n",
       "      <td>1</td>\n",
       "      <td>NaN</td>\n",
       "      <td>Albania</td>\n",
       "      <td>41.1533</td>\n",
       "      <td>20.1683</td>\n",
       "      <td>0</td>\n",
       "      <td>0</td>\n",
       "      <td>0</td>\n",
       "      <td>0</td>\n",
       "      <td>0</td>\n",
       "      <td>0</td>\n",
       "      <td>...</td>\n",
       "      <td>0</td>\n",
       "      <td>0</td>\n",
       "      <td>2</td>\n",
       "      <td>2</td>\n",
       "      <td>2</td>\n",
       "      <td>10</td>\n",
       "      <td>17</td>\n",
       "      <td>17</td>\n",
       "      <td>31</td>\n",
       "      <td>31</td>\n",
       "    </tr>\n",
       "    <tr>\n",
       "      <td>2</td>\n",
       "      <td>NaN</td>\n",
       "      <td>Algeria</td>\n",
       "      <td>28.0339</td>\n",
       "      <td>1.6596</td>\n",
       "      <td>0</td>\n",
       "      <td>0</td>\n",
       "      <td>0</td>\n",
       "      <td>0</td>\n",
       "      <td>0</td>\n",
       "      <td>0</td>\n",
       "      <td>...</td>\n",
       "      <td>32</td>\n",
       "      <td>32</td>\n",
       "      <td>32</td>\n",
       "      <td>65</td>\n",
       "      <td>65</td>\n",
       "      <td>24</td>\n",
       "      <td>65</td>\n",
       "      <td>29</td>\n",
       "      <td>29</td>\n",
       "      <td>31</td>\n",
       "    </tr>\n",
       "    <tr>\n",
       "      <td>3</td>\n",
       "      <td>NaN</td>\n",
       "      <td>Andorra</td>\n",
       "      <td>42.5063</td>\n",
       "      <td>1.5218</td>\n",
       "      <td>0</td>\n",
       "      <td>0</td>\n",
       "      <td>0</td>\n",
       "      <td>0</td>\n",
       "      <td>0</td>\n",
       "      <td>0</td>\n",
       "      <td>...</td>\n",
       "      <td>1</td>\n",
       "      <td>1</td>\n",
       "      <td>1</td>\n",
       "      <td>1</td>\n",
       "      <td>1</td>\n",
       "      <td>1</td>\n",
       "      <td>1</td>\n",
       "      <td>1</td>\n",
       "      <td>1</td>\n",
       "      <td>1</td>\n",
       "    </tr>\n",
       "    <tr>\n",
       "      <td>4</td>\n",
       "      <td>NaN</td>\n",
       "      <td>Angola</td>\n",
       "      <td>-11.2027</td>\n",
       "      <td>17.8739</td>\n",
       "      <td>0</td>\n",
       "      <td>0</td>\n",
       "      <td>0</td>\n",
       "      <td>0</td>\n",
       "      <td>0</td>\n",
       "      <td>0</td>\n",
       "      <td>...</td>\n",
       "      <td>0</td>\n",
       "      <td>0</td>\n",
       "      <td>0</td>\n",
       "      <td>0</td>\n",
       "      <td>0</td>\n",
       "      <td>0</td>\n",
       "      <td>0</td>\n",
       "      <td>0</td>\n",
       "      <td>0</td>\n",
       "      <td>0</td>\n",
       "    </tr>\n",
       "  </tbody>\n",
       "</table>\n",
       "<p>5 rows × 71 columns</p>\n",
       "</div>"
      ],
      "text/plain": [
       "  Province/State Country/Region      Lat     Long  1/22/20  1/23/20  1/24/20  \\\n",
       "0            NaN    Afghanistan  33.0000  65.0000        0        0        0   \n",
       "1            NaN        Albania  41.1533  20.1683        0        0        0   \n",
       "2            NaN        Algeria  28.0339   1.6596        0        0        0   \n",
       "3            NaN        Andorra  42.5063   1.5218        0        0        0   \n",
       "4            NaN         Angola -11.2027  17.8739        0        0        0   \n",
       "\n",
       "   1/25/20  1/26/20  1/27/20  ...  3/19/20  3/20/20  3/21/20  3/22/20  \\\n",
       "0        0        0        0  ...        1        1        1        1   \n",
       "1        0        0        0  ...        0        0        2        2   \n",
       "2        0        0        0  ...       32       32       32       65   \n",
       "3        0        0        0  ...        1        1        1        1   \n",
       "4        0        0        0  ...        0        0        0        0   \n",
       "\n",
       "   3/23/20  3/24/20  3/25/20  3/26/20  3/27/20  3/28/20  \n",
       "0        1        1        2        2        2        2  \n",
       "1        2       10       17       17       31       31  \n",
       "2       65       24       65       29       29       31  \n",
       "3        1        1        1        1        1        1  \n",
       "4        0        0        0        0        0        0  \n",
       "\n",
       "[5 rows x 71 columns]"
      ]
     },
     "execution_count": 13,
     "metadata": {},
     "output_type": "execute_result"
    }
   ],
   "source": [
    "df_recovered.head()"
   ]
  },
  {
   "cell_type": "code",
   "execution_count": 14,
   "metadata": {},
   "outputs": [],
   "source": [
    "df_recovered1 = df_recovered[df_recovered[\"Country/Region\"] == country]"
   ]
  },
  {
   "cell_type": "code",
   "execution_count": 15,
   "metadata": {},
   "outputs": [
    {
     "data": {
      "text/html": [
       "<div>\n",
       "<style scoped>\n",
       "    .dataframe tbody tr th:only-of-type {\n",
       "        vertical-align: middle;\n",
       "    }\n",
       "\n",
       "    .dataframe tbody tr th {\n",
       "        vertical-align: top;\n",
       "    }\n",
       "\n",
       "    .dataframe thead th {\n",
       "        text-align: right;\n",
       "    }\n",
       "</style>\n",
       "<table border=\"1\" class=\"dataframe\">\n",
       "  <thead>\n",
       "    <tr style=\"text-align: right;\">\n",
       "      <th></th>\n",
       "      <th>Province/State</th>\n",
       "      <th>Country/Region</th>\n",
       "      <th>Lat</th>\n",
       "      <th>Long</th>\n",
       "      <th>1/22/20</th>\n",
       "      <th>1/23/20</th>\n",
       "      <th>1/24/20</th>\n",
       "      <th>1/25/20</th>\n",
       "      <th>1/26/20</th>\n",
       "      <th>1/27/20</th>\n",
       "      <th>...</th>\n",
       "      <th>3/19/20</th>\n",
       "      <th>3/20/20</th>\n",
       "      <th>3/21/20</th>\n",
       "      <th>3/22/20</th>\n",
       "      <th>3/23/20</th>\n",
       "      <th>3/24/20</th>\n",
       "      <th>3/25/20</th>\n",
       "      <th>3/26/20</th>\n",
       "      <th>3/27/20</th>\n",
       "      <th>3/28/20</th>\n",
       "    </tr>\n",
       "  </thead>\n",
       "  <tbody>\n",
       "    <tr>\n",
       "      <td>127</td>\n",
       "      <td>NaN</td>\n",
       "      <td>Iran</td>\n",
       "      <td>32.0</td>\n",
       "      <td>53.0</td>\n",
       "      <td>0</td>\n",
       "      <td>0</td>\n",
       "      <td>0</td>\n",
       "      <td>0</td>\n",
       "      <td>0</td>\n",
       "      <td>0</td>\n",
       "      <td>...</td>\n",
       "      <td>5710</td>\n",
       "      <td>6745</td>\n",
       "      <td>7635</td>\n",
       "      <td>7931</td>\n",
       "      <td>7931</td>\n",
       "      <td>8913</td>\n",
       "      <td>9625</td>\n",
       "      <td>10457</td>\n",
       "      <td>11133</td>\n",
       "      <td>11679</td>\n",
       "    </tr>\n",
       "  </tbody>\n",
       "</table>\n",
       "<p>1 rows × 71 columns</p>\n",
       "</div>"
      ],
      "text/plain": [
       "    Province/State Country/Region   Lat  Long  1/22/20  1/23/20  1/24/20  \\\n",
       "127            NaN           Iran  32.0  53.0        0        0        0   \n",
       "\n",
       "     1/25/20  1/26/20  1/27/20  ...  3/19/20  3/20/20  3/21/20  3/22/20  \\\n",
       "127        0        0        0  ...     5710     6745     7635     7931   \n",
       "\n",
       "     3/23/20  3/24/20  3/25/20  3/26/20  3/27/20  3/28/20  \n",
       "127     7931     8913     9625    10457    11133    11679  \n",
       "\n",
       "[1 rows x 71 columns]"
      ]
     },
     "execution_count": 15,
     "metadata": {},
     "output_type": "execute_result"
    }
   ],
   "source": [
    "df_recovered1"
   ]
  },
  {
   "cell_type": "code",
   "execution_count": 17,
   "metadata": {},
   "outputs": [
    {
     "data": {
      "text/html": [
       "<div>\n",
       "<style scoped>\n",
       "    .dataframe tbody tr th:only-of-type {\n",
       "        vertical-align: middle;\n",
       "    }\n",
       "\n",
       "    .dataframe tbody tr th {\n",
       "        vertical-align: top;\n",
       "    }\n",
       "\n",
       "    .dataframe thead th {\n",
       "        text-align: right;\n",
       "    }\n",
       "</style>\n",
       "<table border=\"1\" class=\"dataframe\">\n",
       "  <thead>\n",
       "    <tr style=\"text-align: right;\">\n",
       "      <th></th>\n",
       "      <th>recovered</th>\n",
       "    </tr>\n",
       "  </thead>\n",
       "  <tbody>\n",
       "    <tr>\n",
       "      <td>2020-03-24</td>\n",
       "      <td>8913</td>\n",
       "    </tr>\n",
       "    <tr>\n",
       "      <td>2020-03-25</td>\n",
       "      <td>9625</td>\n",
       "    </tr>\n",
       "    <tr>\n",
       "      <td>2020-03-26</td>\n",
       "      <td>10457</td>\n",
       "    </tr>\n",
       "    <tr>\n",
       "      <td>2020-03-27</td>\n",
       "      <td>11133</td>\n",
       "    </tr>\n",
       "    <tr>\n",
       "      <td>2020-03-28</td>\n",
       "      <td>11679</td>\n",
       "    </tr>\n",
       "  </tbody>\n",
       "</table>\n",
       "</div>"
      ],
      "text/plain": [
       "            recovered\n",
       "2020-03-24       8913\n",
       "2020-03-25       9625\n",
       "2020-03-26      10457\n",
       "2020-03-27      11133\n",
       "2020-03-28      11679"
      ]
     },
     "execution_count": 17,
     "metadata": {},
     "output_type": "execute_result"
    }
   ],
   "source": [
    "\n",
    "df_recovered2 = pd.DataFrame(df_recovered1[df_recovered1.columns[4:]].sum(),columns=[\"recovered\"])\n",
    "df_recovered2.index = pd.to_datetime(df_recovered2.index,format='%m/%d/%y')\n",
    "df_recovered2.tail()"
   ]
  },
  {
   "cell_type": "code",
   "execution_count": 18,
   "metadata": {},
   "outputs": [
    {
     "data": {
      "text/html": [
       "<div>\n",
       "<style scoped>\n",
       "    .dataframe tbody tr th:only-of-type {\n",
       "        vertical-align: middle;\n",
       "    }\n",
       "\n",
       "    .dataframe tbody tr th {\n",
       "        vertical-align: top;\n",
       "    }\n",
       "\n",
       "    .dataframe thead th {\n",
       "        text-align: right;\n",
       "    }\n",
       "</style>\n",
       "<table border=\"1\" class=\"dataframe\">\n",
       "  <thead>\n",
       "    <tr style=\"text-align: right;\">\n",
       "      <th></th>\n",
       "      <th>confirmed</th>\n",
       "      <th>dead</th>\n",
       "    </tr>\n",
       "  </thead>\n",
       "  <tbody>\n",
       "    <tr>\n",
       "      <td>2020-01-22</td>\n",
       "      <td>0</td>\n",
       "      <td>0</td>\n",
       "    </tr>\n",
       "    <tr>\n",
       "      <td>2020-01-23</td>\n",
       "      <td>0</td>\n",
       "      <td>0</td>\n",
       "    </tr>\n",
       "    <tr>\n",
       "      <td>2020-01-24</td>\n",
       "      <td>0</td>\n",
       "      <td>0</td>\n",
       "    </tr>\n",
       "    <tr>\n",
       "      <td>2020-01-25</td>\n",
       "      <td>0</td>\n",
       "      <td>0</td>\n",
       "    </tr>\n",
       "    <tr>\n",
       "      <td>2020-01-26</td>\n",
       "      <td>0</td>\n",
       "      <td>0</td>\n",
       "    </tr>\n",
       "    <tr>\n",
       "      <td>...</td>\n",
       "      <td>...</td>\n",
       "      <td>...</td>\n",
       "    </tr>\n",
       "    <tr>\n",
       "      <td>2020-03-24</td>\n",
       "      <td>24811</td>\n",
       "      <td>1934</td>\n",
       "    </tr>\n",
       "    <tr>\n",
       "      <td>2020-03-25</td>\n",
       "      <td>27017</td>\n",
       "      <td>2077</td>\n",
       "    </tr>\n",
       "    <tr>\n",
       "      <td>2020-03-26</td>\n",
       "      <td>29406</td>\n",
       "      <td>2234</td>\n",
       "    </tr>\n",
       "    <tr>\n",
       "      <td>2020-03-27</td>\n",
       "      <td>32332</td>\n",
       "      <td>2378</td>\n",
       "    </tr>\n",
       "    <tr>\n",
       "      <td>2020-03-28</td>\n",
       "      <td>35408</td>\n",
       "      <td>2517</td>\n",
       "    </tr>\n",
       "  </tbody>\n",
       "</table>\n",
       "<p>67 rows × 2 columns</p>\n",
       "</div>"
      ],
      "text/plain": [
       "            confirmed  dead\n",
       "2020-01-22          0     0\n",
       "2020-01-23          0     0\n",
       "2020-01-24          0     0\n",
       "2020-01-25          0     0\n",
       "2020-01-26          0     0\n",
       "...               ...   ...\n",
       "2020-03-24      24811  1934\n",
       "2020-03-25      27017  2077\n",
       "2020-03-26      29406  2234\n",
       "2020-03-27      32332  2378\n",
       "2020-03-28      35408  2517\n",
       "\n",
       "[67 rows x 2 columns]"
      ]
     },
     "execution_count": 18,
     "metadata": {},
     "output_type": "execute_result"
    }
   ],
   "source": [
    "##join confirmed with dead\n",
    "df_conf_dead = df_confirmed2.join(df_dead2,how = \"inner\")\n",
    "df_conf_dead"
   ]
  },
  {
   "cell_type": "code",
   "execution_count": 19,
   "metadata": {},
   "outputs": [
    {
     "data": {
      "text/html": [
       "<div>\n",
       "<style scoped>\n",
       "    .dataframe tbody tr th:only-of-type {\n",
       "        vertical-align: middle;\n",
       "    }\n",
       "\n",
       "    .dataframe tbody tr th {\n",
       "        vertical-align: top;\n",
       "    }\n",
       "\n",
       "    .dataframe thead th {\n",
       "        text-align: right;\n",
       "    }\n",
       "</style>\n",
       "<table border=\"1\" class=\"dataframe\">\n",
       "  <thead>\n",
       "    <tr style=\"text-align: right;\">\n",
       "      <th></th>\n",
       "      <th>confirmed</th>\n",
       "      <th>dead</th>\n",
       "      <th>recovered</th>\n",
       "    </tr>\n",
       "  </thead>\n",
       "  <tbody>\n",
       "    <tr>\n",
       "      <td>2020-01-22</td>\n",
       "      <td>0</td>\n",
       "      <td>0</td>\n",
       "      <td>0</td>\n",
       "    </tr>\n",
       "    <tr>\n",
       "      <td>2020-01-23</td>\n",
       "      <td>0</td>\n",
       "      <td>0</td>\n",
       "      <td>0</td>\n",
       "    </tr>\n",
       "    <tr>\n",
       "      <td>2020-01-24</td>\n",
       "      <td>0</td>\n",
       "      <td>0</td>\n",
       "      <td>0</td>\n",
       "    </tr>\n",
       "    <tr>\n",
       "      <td>2020-01-25</td>\n",
       "      <td>0</td>\n",
       "      <td>0</td>\n",
       "      <td>0</td>\n",
       "    </tr>\n",
       "    <tr>\n",
       "      <td>2020-01-26</td>\n",
       "      <td>0</td>\n",
       "      <td>0</td>\n",
       "      <td>0</td>\n",
       "    </tr>\n",
       "    <tr>\n",
       "      <td>...</td>\n",
       "      <td>...</td>\n",
       "      <td>...</td>\n",
       "      <td>...</td>\n",
       "    </tr>\n",
       "    <tr>\n",
       "      <td>2020-03-24</td>\n",
       "      <td>24811</td>\n",
       "      <td>1934</td>\n",
       "      <td>8913</td>\n",
       "    </tr>\n",
       "    <tr>\n",
       "      <td>2020-03-25</td>\n",
       "      <td>27017</td>\n",
       "      <td>2077</td>\n",
       "      <td>9625</td>\n",
       "    </tr>\n",
       "    <tr>\n",
       "      <td>2020-03-26</td>\n",
       "      <td>29406</td>\n",
       "      <td>2234</td>\n",
       "      <td>10457</td>\n",
       "    </tr>\n",
       "    <tr>\n",
       "      <td>2020-03-27</td>\n",
       "      <td>32332</td>\n",
       "      <td>2378</td>\n",
       "      <td>11133</td>\n",
       "    </tr>\n",
       "    <tr>\n",
       "      <td>2020-03-28</td>\n",
       "      <td>35408</td>\n",
       "      <td>2517</td>\n",
       "      <td>11679</td>\n",
       "    </tr>\n",
       "  </tbody>\n",
       "</table>\n",
       "<p>67 rows × 3 columns</p>\n",
       "</div>"
      ],
      "text/plain": [
       "            confirmed  dead  recovered\n",
       "2020-01-22          0     0          0\n",
       "2020-01-23          0     0          0\n",
       "2020-01-24          0     0          0\n",
       "2020-01-25          0     0          0\n",
       "2020-01-26          0     0          0\n",
       "...               ...   ...        ...\n",
       "2020-03-24      24811  1934       8913\n",
       "2020-03-25      27017  2077       9625\n",
       "2020-03-26      29406  2234      10457\n",
       "2020-03-27      32332  2378      11133\n",
       "2020-03-28      35408  2517      11679\n",
       "\n",
       "[67 rows x 3 columns]"
      ]
     },
     "execution_count": 19,
     "metadata": {},
     "output_type": "execute_result"
    }
   ],
   "source": [
    "## join confirmed+dead with recovered\n",
    "df_all = df_conf_dead.join(df_recovered2,how = \"inner\")\n",
    "df_all"
   ]
  },
  {
   "cell_type": "code",
   "execution_count": 20,
   "metadata": {},
   "outputs": [
    {
     "data": {
      "text/plain": [
       "<matplotlib.axes._subplots.AxesSubplot at 0x241f8ff9988>"
      ]
     },
     "execution_count": 20,
     "metadata": {},
     "output_type": "execute_result"
    },
    {
     "data": {
      "image/png": "[encoded data removed]",
      "text/plain": [
       "<Figure size 720x360 with 1 Axes>"
      ]
     },
     "metadata": {
      "needs_background": "light"
     },
     "output_type": "display_data"
    }
   ],
   "source": [
    "#plt.figure(figsize=(5,5))\n",
    "df_all.plot(figsize=(10,5),title=\"Iran\")"
   ]
  },
  {
   "cell_type": "code",
   "execution_count": 21,
   "metadata": {},
   "outputs": [
    {
     "data": {
      "text/plain": [
       "<matplotlib.axes._subplots.AxesSubplot at 0x241f9921e88>"
      ]
     },
     "execution_count": 21,
     "metadata": {},
     "output_type": "execute_result"
    },
    {
     "data": {
      "image/png": "[encoded data removed]",
      "text/plain": [
       "<Figure size 432x288 with 1 Axes>"
      ]
     },
     "metadata": {
      "needs_background": "light"
     },
     "output_type": "display_data"
    }
   ],
   "source": [
    "df_confirmed2.plot(title=\"Iran-Confirmed cases\")"
   ]
  },
  {
   "cell_type": "code",
   "execution_count": 22,
   "metadata": {},
   "outputs": [
    {
     "data": {
      "text/html": [
       "<div>\n",
       "<style scoped>\n",
       "    .dataframe tbody tr th:only-of-type {\n",
       "        vertical-align: middle;\n",
       "    }\n",
       "\n",
       "    .dataframe tbody tr th {\n",
       "        vertical-align: top;\n",
       "    }\n",
       "\n",
       "    .dataframe thead th {\n",
       "        text-align: right;\n",
       "    }\n",
       "</style>\n",
       "<table border=\"1\" class=\"dataframe\">\n",
       "  <thead>\n",
       "    <tr style=\"text-align: right;\">\n",
       "      <th></th>\n",
       "      <th>confirmed</th>\n",
       "    </tr>\n",
       "  </thead>\n",
       "  <tbody>\n",
       "    <tr>\n",
       "      <td>2020-03-19</td>\n",
       "      <td>18407</td>\n",
       "    </tr>\n",
       "    <tr>\n",
       "      <td>2020-03-20</td>\n",
       "      <td>19644</td>\n",
       "    </tr>\n",
       "    <tr>\n",
       "      <td>2020-03-21</td>\n",
       "      <td>20610</td>\n",
       "    </tr>\n",
       "    <tr>\n",
       "      <td>2020-03-22</td>\n",
       "      <td>21638</td>\n",
       "    </tr>\n",
       "    <tr>\n",
       "      <td>2020-03-23</td>\n",
       "      <td>23049</td>\n",
       "    </tr>\n",
       "    <tr>\n",
       "      <td>2020-03-24</td>\n",
       "      <td>24811</td>\n",
       "    </tr>\n",
       "    <tr>\n",
       "      <td>2020-03-25</td>\n",
       "      <td>27017</td>\n",
       "    </tr>\n",
       "    <tr>\n",
       "      <td>2020-03-26</td>\n",
       "      <td>29406</td>\n",
       "    </tr>\n",
       "    <tr>\n",
       "      <td>2020-03-27</td>\n",
       "      <td>32332</td>\n",
       "    </tr>\n",
       "    <tr>\n",
       "      <td>2020-03-28</td>\n",
       "      <td>35408</td>\n",
       "    </tr>\n",
       "  </tbody>\n",
       "</table>\n",
       "</div>"
      ],
      "text/plain": [
       "            confirmed\n",
       "2020-03-19      18407\n",
       "2020-03-20      19644\n",
       "2020-03-21      20610\n",
       "2020-03-22      21638\n",
       "2020-03-23      23049\n",
       "2020-03-24      24811\n",
       "2020-03-25      27017\n",
       "2020-03-26      29406\n",
       "2020-03-27      32332\n",
       "2020-03-28      35408"
      ]
     },
     "execution_count": 22,
     "metadata": {},
     "output_type": "execute_result"
    }
   ],
   "source": [
    "df_new = df_confirmed2[[\"confirmed\"]]\n",
    "df_new.tail(10)"
   ]
  },
  {
   "cell_type": "code",
   "execution_count": 23,
   "metadata": {},
   "outputs": [
    {
     "data": {
      "text/plain": [
       "67"
      ]
     },
     "execution_count": 23,
     "metadata": {},
     "output_type": "execute_result"
    }
   ],
   "source": [
    "#daily data and i want to predict 5 days afterwards\n",
    "len(df_new)"
   ]
  },
  {
   "cell_type": "code",
   "execution_count": 24,
   "metadata": {},
   "outputs": [
    {
     "data": {
      "text/plain": [
       "62"
      ]
     },
     "execution_count": 24,
     "metadata": {},
     "output_type": "execute_result"
    }
   ],
   "source": [
    "x = len(df_new)-5\n",
    "x"
   ]
  },
  {
   "cell_type": "code",
   "execution_count": 25,
   "metadata": {},
   "outputs": [
    {
     "data": {
      "text/html": [
       "<div>\n",
       "<style scoped>\n",
       "    .dataframe tbody tr th:only-of-type {\n",
       "        vertical-align: middle;\n",
       "    }\n",
       "\n",
       "    .dataframe tbody tr th {\n",
       "        vertical-align: top;\n",
       "    }\n",
       "\n",
       "    .dataframe thead th {\n",
       "        text-align: right;\n",
       "    }\n",
       "</style>\n",
       "<table border=\"1\" class=\"dataframe\">\n",
       "  <thead>\n",
       "    <tr style=\"text-align: right;\">\n",
       "      <th></th>\n",
       "      <th>confirmed</th>\n",
       "    </tr>\n",
       "  </thead>\n",
       "  <tbody>\n",
       "    <tr>\n",
       "      <td>2020-01-22</td>\n",
       "      <td>0</td>\n",
       "    </tr>\n",
       "    <tr>\n",
       "      <td>2020-01-23</td>\n",
       "      <td>0</td>\n",
       "    </tr>\n",
       "    <tr>\n",
       "      <td>2020-01-24</td>\n",
       "      <td>0</td>\n",
       "    </tr>\n",
       "    <tr>\n",
       "      <td>2020-01-25</td>\n",
       "      <td>0</td>\n",
       "    </tr>\n",
       "    <tr>\n",
       "      <td>2020-01-26</td>\n",
       "      <td>0</td>\n",
       "    </tr>\n",
       "    <tr>\n",
       "      <td>...</td>\n",
       "      <td>...</td>\n",
       "    </tr>\n",
       "    <tr>\n",
       "      <td>2020-03-19</td>\n",
       "      <td>18407</td>\n",
       "    </tr>\n",
       "    <tr>\n",
       "      <td>2020-03-20</td>\n",
       "      <td>19644</td>\n",
       "    </tr>\n",
       "    <tr>\n",
       "      <td>2020-03-21</td>\n",
       "      <td>20610</td>\n",
       "    </tr>\n",
       "    <tr>\n",
       "      <td>2020-03-22</td>\n",
       "      <td>21638</td>\n",
       "    </tr>\n",
       "    <tr>\n",
       "      <td>2020-03-23</td>\n",
       "      <td>23049</td>\n",
       "    </tr>\n",
       "  </tbody>\n",
       "</table>\n",
       "<p>62 rows × 1 columns</p>\n",
       "</div>"
      ],
      "text/plain": [
       "            confirmed\n",
       "2020-01-22          0\n",
       "2020-01-23          0\n",
       "2020-01-24          0\n",
       "2020-01-25          0\n",
       "2020-01-26          0\n",
       "...               ...\n",
       "2020-03-19      18407\n",
       "2020-03-20      19644\n",
       "2020-03-21      20610\n",
       "2020-03-22      21638\n",
       "2020-03-23      23049\n",
       "\n",
       "[62 rows x 1 columns]"
      ]
     },
     "execution_count": 25,
     "metadata": {},
     "output_type": "execute_result"
    }
   ],
   "source": [
    "train=df_new.iloc[:x]\n",
    "test = df_new.iloc[x:]\n",
    "train"
   ]
  },
  {
   "cell_type": "code",
   "execution_count": 26,
   "metadata": {},
   "outputs": [],
   "source": [
    "##scale or normalize data as the data is too skewed\n",
    "from sklearn.preprocessing import MinMaxScaler\n",
    "scaler = MinMaxScaler()"
   ]
  },
  {
   "cell_type": "code",
   "execution_count": 27,
   "metadata": {},
   "outputs": [
    {
     "data": {
      "text/plain": [
       "MinMaxScaler(copy=True, feature_range=(0, 1))"
      ]
     },
     "execution_count": 27,
     "metadata": {},
     "output_type": "execute_result"
    }
   ],
   "source": [
    "scaler.fit(train) #find max value "
   ]
  },
  {
   "cell_type": "code",
   "execution_count": 28,
   "metadata": {},
   "outputs": [
    {
     "name": "stdout",
     "output_type": "stream",
     "text": [
      "[[0.79860298]\n",
      " [0.85227125]\n",
      " [0.89418196]\n",
      " [0.93878259]\n",
      " [1.        ]]\n"
     ]
    }
   ],
   "source": [
    "scaled_train = scaler.transform(train)#and divide every point by max value\n",
    "scaled_test = scaler.transform(test)\n",
    "print(scaled_train[-5:])"
   ]
  },
  {
   "cell_type": "code",
   "execution_count": 29,
   "metadata": {},
   "outputs": [
    {
     "name": "stderr",
     "output_type": "stream",
     "text": [
      "Using TensorFlow backend.\n"
     ]
    }
   ],
   "source": [
    "## feed in batches [t1,t2,t3] --> t4\n",
    "from keras.preprocessing.sequence import TimeseriesGenerator"
   ]
  },
  {
   "cell_type": "code",
   "execution_count": 30,
   "metadata": {},
   "outputs": [
    {
     "data": {
      "text/plain": [
       "(62, 1)"
      ]
     },
     "execution_count": 30,
     "metadata": {},
     "output_type": "execute_result"
    }
   ],
   "source": [
    "scaled_train.shape"
   ]
  },
  {
   "cell_type": "code",
   "execution_count": 31,
   "metadata": {},
   "outputs": [],
   "source": [
    "## how to decide num of inputs , \n",
    "n_input = 5  ## number of steps\n",
    "n_features = 1 ## number of features you want to predict (for univariate time series n_features=1)\n",
    "generator = TimeseriesGenerator(scaled_train,scaled_train,length = n_input,batch_size=1)"
   ]
  },
  {
   "cell_type": "code",
   "execution_count": 32,
   "metadata": {},
   "outputs": [
    {
     "data": {
      "text/plain": [
       "62"
      ]
     },
     "execution_count": 32,
     "metadata": {},
     "output_type": "execute_result"
    }
   ],
   "source": [
    "len(scaled_train)"
   ]
  },
  {
   "cell_type": "code",
   "execution_count": 33,
   "metadata": {},
   "outputs": [
    {
     "data": {
      "text/plain": [
       "57"
      ]
     },
     "execution_count": 33,
     "metadata": {},
     "output_type": "execute_result"
    }
   ],
   "source": [
    "len(generator)"
   ]
  },
  {
   "cell_type": "code",
   "execution_count": 34,
   "metadata": {},
   "outputs": [],
   "source": [
    "x,y = generator[50]"
   ]
  },
  {
   "cell_type": "code",
   "execution_count": 35,
   "metadata": {},
   "outputs": [
    {
     "data": {
      "text/plain": [
       "((1, 5, 1), (1, 1))"
      ]
     },
     "execution_count": 35,
     "metadata": {},
     "output_type": "execute_result"
    }
   ],
   "source": [
    "(x.shape,y.shape)"
   ]
  },
  {
   "cell_type": "code",
   "execution_count": 36,
   "metadata": {},
   "outputs": [
    {
     "data": {
      "text/plain": [
       "(array([[[0.43711224],\n",
       "         [0.49303657],\n",
       "         [0.55225823],\n",
       "         [0.6047117 ],\n",
       "         [0.65039698]]]), array([[0.70150549]]))"
      ]
     },
     "execution_count": 36,
     "metadata": {},
     "output_type": "execute_result"
    }
   ],
   "source": [
    "(x,y)"
   ]
  },
  {
   "cell_type": "code",
   "execution_count": 37,
   "metadata": {},
   "outputs": [
    {
     "data": {
      "text/plain": [
       "array([[0.70150549]])"
      ]
     },
     "execution_count": 37,
     "metadata": {},
     "output_type": "execute_result"
    }
   ],
   "source": [
    "y"
   ]
  },
  {
   "cell_type": "code",
   "execution_count": 38,
   "metadata": {},
   "outputs": [],
   "source": [
    "## above takes 5 inputs and predicts next point in scaled_train\n",
    "## smaller batch size leads to better trainig for time series"
   ]
  },
  {
   "cell_type": "code",
   "execution_count": 39,
   "metadata": {},
   "outputs": [],
   "source": [
    "from keras.models import Sequential\n",
    "from keras.layers import Dense, LSTM, Dropout, Activation"
   ]
  },
  {
   "cell_type": "code",
   "execution_count": 40,
   "metadata": {},
   "outputs": [],
   "source": [
    "model = Sequential()\n",
    "model.add(LSTM(150,activation=\"relu\",input_shape=(n_input,n_features)))\n",
    "#model.add(Dropout(0.2))\n",
    "model.add(Dense(75, activation='relu'))\n",
    "model.add(Dense(units=1))\n",
    "#model.add(Activation('softmax'))\n",
    "#model.add(Dense(1))\n",
    "model.compile(optimizer=\"adam\",loss=\"mse\")"
   ]
  },
  {
   "cell_type": "code",
   "execution_count": 41,
   "metadata": {},
   "outputs": [
    {
     "name": "stdout",
     "output_type": "stream",
     "text": [
      "Model: \"sequential_1\"\n",
      "_________________________________________________________________\n",
      "Layer (type)                 Output Shape              Param #   \n",
      "=================================================================\n",
      "lstm_1 (LSTM)                (None, 150)               91200     \n",
      "_________________________________________________________________\n",
      "dense_1 (Dense)              (None, 75)                11325     \n",
      "_________________________________________________________________\n",
      "dense_2 (Dense)              (None, 1)                 76        \n",
      "=================================================================\n",
      "Total params: 102,601\n",
      "Trainable params: 102,601\n",
      "Non-trainable params: 0\n",
      "_________________________________________________________________\n"
     ]
    }
   ],
   "source": [
    "model.summary()"
   ]
  },
  {
   "cell_type": "code",
   "execution_count": 42,
   "metadata": {},
   "outputs": [
    {
     "data": {
      "text/plain": [
       "array([[0.70150549],\n",
       "       [1.07644583],\n",
       "       [1.17215497],\n",
       "       [1.27580372],\n",
       "       [1.40275066],\n",
       "       [1.53620548]])"
      ]
     },
     "execution_count": 42,
     "metadata": {},
     "output_type": "execute_result"
    }
   ],
   "source": [
    "validation_set = np.append(scaled_train[55],scaled_test)\n",
    "validation_set=validation_set.reshape(6,1)\n",
    "validation_set"
   ]
  },
  {
   "cell_type": "code",
   "execution_count": 43,
   "metadata": {},
   "outputs": [],
   "source": [
    "## how to decide num of inputs , \n",
    "n_input = 5\n",
    "n_features = 1\n",
    "validation_gen = TimeseriesGenerator(validation_set,validation_set,length=5,batch_size=1)"
   ]
  },
  {
   "cell_type": "code",
   "execution_count": 44,
   "metadata": {},
   "outputs": [
    {
     "data": {
      "text/plain": [
       "((1, 5, 1), (1, 1))"
      ]
     },
     "execution_count": 44,
     "metadata": {},
     "output_type": "execute_result"
    }
   ],
   "source": [
    "validation_gen[0][0].shape,validation_gen[0][1].shape"
   ]
  },
  {
   "cell_type": "code",
   "execution_count": 45,
   "metadata": {},
   "outputs": [],
   "source": [
    "from tensorflow.keras.callbacks import EarlyStopping\n",
    "early_stop = EarlyStopping(monitor='val_loss',patience=20,restore_best_weights=True)"
   ]
  },
  {
   "cell_type": "code",
   "execution_count": 46,
   "metadata": {},
   "outputs": [
    {
     "name": "stdout",
     "output_type": "stream",
     "text": [
      "Epoch 1/100\n",
      "10/10 [==============================] - 5s 472ms/step - loss: 0.0365 - val_loss: 1.7782\n",
      "Epoch 2/100\n",
      "10/10 [==============================] - 0s 19ms/step - loss: 0.0846 - val_loss: 1.3458\n",
      "Epoch 3/100\n",
      "10/10 [==============================] - 0s 17ms/step - loss: 0.0658 - val_loss: 0.6236\n",
      "Epoch 4/100\n",
      "10/10 [==============================] - 0s 19ms/step - loss: 0.0059 - val_loss: 0.2127\n",
      "Epoch 5/100\n",
      "10/10 [==============================] - 0s 15ms/step - loss: 0.0039 - val_loss: 0.0149\n",
      "Epoch 6/100\n",
      "10/10 [==============================] - 0s 21ms/step - loss: 0.0038 - val_loss: 0.0485\n",
      "Epoch 7/100\n",
      "10/10 [==============================] - 0s 18ms/step - loss: 0.0023 - val_loss: 0.0345\n",
      "Epoch 8/100\n",
      "10/10 [==============================] - 0s 18ms/step - loss: 9.1255e-04 - val_loss: 0.0677\n",
      "Epoch 9/100\n",
      "10/10 [==============================] - 0s 16ms/step - loss: 7.4998e-04 - val_loss: 0.0617\n",
      "Epoch 10/100\n",
      "10/10 [==============================] - 0s 16ms/step - loss: 1.2947e-04 - val_loss: 0.0642\n",
      "Epoch 11/100\n",
      "10/10 [==============================] - 0s 19ms/step - loss: 1.0867e-04 - val_loss: 0.0776\n",
      "Epoch 12/100\n",
      "10/10 [==============================] - 0s 19ms/step - loss: 8.4752e-04 - val_loss: 0.0535\n",
      "Epoch 13/100\n",
      "10/10 [==============================] - 0s 18ms/step - loss: 5.8066e-04 - val_loss: 0.0970\n",
      "Epoch 14/100\n",
      "10/10 [==============================] - 0s 25ms/step - loss: 2.7141e-04 - val_loss: 0.0403\n",
      "Epoch 15/100\n",
      "10/10 [==============================] - 0s 26ms/step - loss: 7.3023e-04 - val_loss: 0.0380\n",
      "Epoch 16/100\n",
      "10/10 [==============================] - 0s 29ms/step - loss: 7.7489e-04 - val_loss: 0.0633\n",
      "Epoch 17/100\n",
      "10/10 [==============================] - 0s 33ms/step - loss: 3.9260e-04 - val_loss: 0.0711\n",
      "Epoch 18/100\n",
      "10/10 [==============================] - 0s 34ms/step - loss: 6.3261e-05 - val_loss: 0.0595\n",
      "Epoch 19/100\n",
      "10/10 [==============================] - 0s 20ms/step - loss: 4.6737e-04 - val_loss: 0.0683\n",
      "Epoch 20/100\n",
      "10/10 [==============================] - 0s 25ms/step - loss: 2.0498e-04 - val_loss: 0.0693\n",
      "Epoch 21/100\n",
      "10/10 [==============================] - 0s 22ms/step - loss: 6.4102e-04 - val_loss: 0.0589\n",
      "Epoch 22/100\n",
      "10/10 [==============================] - 0s 18ms/step - loss: 5.7691e-04 - val_loss: 0.0713\n",
      "Epoch 23/100\n",
      "10/10 [==============================] - 0s 19ms/step - loss: 3.9006e-04 - val_loss: 0.0703\n",
      "Epoch 24/100\n",
      "10/10 [==============================] - 0s 18ms/step - loss: 3.6532e-04 - val_loss: 0.0829\n",
      "Epoch 25/100\n",
      "10/10 [==============================] - 0s 15ms/step - loss: 3.7527e-04 - val_loss: 0.0735\n"
     ]
    },
    {
     "data": {
      "text/plain": [
       "<keras.callbacks.callbacks.History at 0x24185b114c8>"
      ]
     },
     "execution_count": 46,
     "metadata": {},
     "output_type": "execute_result"
    }
   ],
   "source": [
    "model.fit_generator(generator,validation_data=validation_gen,epochs=100,callbacks=[early_stop],steps_per_epoch=10)"
   ]
  },
  {
   "cell_type": "code",
   "execution_count": 47,
   "metadata": {},
   "outputs": [
    {
     "data": {
      "text/plain": [
       "<matplotlib.axes._subplots.AxesSubplot at 0x24185e8f548>"
      ]
     },
     "execution_count": 47,
     "metadata": {},
     "output_type": "execute_result"
    },
    {
     "data": {
      "image/png": "[encoded data removed]",
      "text/plain": [
       "<Figure size 432x288 with 1 Axes>"
      ]
     },
     "metadata": {
      "needs_background": "light"
     },
     "output_type": "display_data"
    }
   ],
   "source": [
    "pd.DataFrame(model.history.history).plot(title=\"loss vs epochs curve\")"
   ]
  },
  {
   "cell_type": "code",
   "execution_count": 48,
   "metadata": {},
   "outputs": [
    {
     "data": {
      "text/plain": [
       "dict_keys(['val_loss', 'loss'])"
      ]
     },
     "execution_count": 48,
     "metadata": {},
     "output_type": "execute_result"
    }
   ],
   "source": [
    "model.history.history.keys()"
   ]
  },
  {
   "cell_type": "code",
   "execution_count": 49,
   "metadata": {},
   "outputs": [
    {
     "data": {
      "text/plain": [
       "[<matplotlib.lines.Line2D at 0x241885d2f88>]"
      ]
     },
     "execution_count": 49,
     "metadata": {},
     "output_type": "execute_result"
    },
    {
     "data": {
      "image/png": "[encoded data removed]",
      "text/plain": [
       "<Figure size 432x288 with 1 Axes>"
      ]
     },
     "metadata": {
      "needs_background": "light"
     },
     "output_type": "display_data"
    }
   ],
   "source": [
    "myloss = model.history.history[\"val_loss\"]\n",
    "plt.title(\"validation loss vs epochs\")\n",
    "plt.plot(range(len(myloss)),myloss)"
   ]
  },
  {
   "cell_type": "code",
   "execution_count": 50,
   "metadata": {},
   "outputs": [],
   "source": [
    "### evaluation batch\n",
    "## 5 history steps ---> step 6\n",
    "## last 5 point train predicts point 1 of test data"
   ]
  },
  {
   "cell_type": "markdown",
   "metadata": {},
   "source": [
    "## forecast"
   ]
  },
  {
   "cell_type": "code",
   "execution_count": 51,
   "metadata": {},
   "outputs": [],
   "source": [
    "## holding predictions\n",
    "test_prediction = []\n",
    "\n",
    "##last n points from training set\n",
    "first_eval_batch = scaled_train[-n_input:]\n",
    "current_batch = first_eval_batch.reshape(1,n_input,n_features)"
   ]
  },
  {
   "cell_type": "code",
   "execution_count": 52,
   "metadata": {},
   "outputs": [
    {
     "data": {
      "text/plain": [
       "(1, 5, 1)"
      ]
     },
     "execution_count": 52,
     "metadata": {},
     "output_type": "execute_result"
    }
   ],
   "source": [
    "current_batch.shape"
   ]
  },
  {
   "cell_type": "code",
   "execution_count": 53,
   "metadata": {},
   "outputs": [],
   "source": [
    "## how far in future we can predict\n",
    "for i in range(len(test)+7):\n",
    "    current_pred = model.predict(current_batch)[0]\n",
    "    test_prediction.append(current_pred)\n",
    "    current_batch = np.append(current_batch[:,1:,:],[[current_pred]],axis=1)"
   ]
  },
  {
   "cell_type": "code",
   "execution_count": 54,
   "metadata": {},
   "outputs": [
    {
     "data": {
      "text/plain": [
       "[array([1.1575139], dtype=float32),\n",
       " array([1.2411406], dtype=float32),\n",
       " array([1.3307688], dtype=float32),\n",
       " array([1.436096], dtype=float32),\n",
       " array([1.5616592], dtype=float32),\n",
       " array([1.7083707], dtype=float32),\n",
       " array([1.851298], dtype=float32),\n",
       " array([2.015809], dtype=float32),\n",
       " array([2.2081153], dtype=float32),\n",
       " array([2.4332516], dtype=float32),\n",
       " array([2.6970742], dtype=float32),\n",
       " array([3.008405], dtype=float32)]"
      ]
     },
     "execution_count": 54,
     "metadata": {},
     "output_type": "execute_result"
    }
   ],
   "source": [
    "test_prediction"
   ]
  },
  {
   "cell_type": "code",
   "execution_count": 55,
   "metadata": {},
   "outputs": [
    {
     "data": {
      "text/plain": [
       "array([26679.53688741, 28607.04978204, 30672.8906157 , 33100.57562041,\n",
       "       35994.68328989, 39376.23593187, 42670.56701624, 46462.38300419,\n",
       "       50894.85045505, 56084.01657414, 62164.86265683, 69340.72615743])"
      ]
     },
     "execution_count": 55,
     "metadata": {},
     "output_type": "execute_result"
    }
   ],
   "source": [
    "### inverse scaled data\n",
    "true_prediction = scaler.inverse_transform(test_prediction)\n",
    "true_prediction[:,0]"
   ]
  },
  {
   "cell_type": "code",
   "execution_count": 56,
   "metadata": {},
   "outputs": [
    {
     "data": {
      "text/plain": [
       "DatetimeIndex(['2020-03-24', '2020-03-25', '2020-03-26', '2020-03-27',\n",
       "               '2020-03-28', '2020-03-29', '2020-03-30', '2020-03-31',\n",
       "               '2020-04-01', '2020-04-02', '2020-04-03', '2020-04-04'],\n",
       "              dtype='datetime64[ns]', freq=None)"
      ]
     },
     "execution_count": 56,
     "metadata": {},
     "output_type": "execute_result"
    }
   ],
   "source": [
    "time_series_array = test.index\n",
    "for k in range(0,7):\n",
    "    time_series_array = time_series_array.append(time_series_array[-1:] + pd.DateOffset(1))\n",
    "time_series_array"
   ]
  },
  {
   "cell_type": "code",
   "execution_count": 57,
   "metadata": {},
   "outputs": [
    {
     "data": {
      "text/html": [
       "<div>\n",
       "<style scoped>\n",
       "    .dataframe tbody tr th:only-of-type {\n",
       "        vertical-align: middle;\n",
       "    }\n",
       "\n",
       "    .dataframe tbody tr th {\n",
       "        vertical-align: top;\n",
       "    }\n",
       "\n",
       "    .dataframe thead th {\n",
       "        text-align: right;\n",
       "    }\n",
       "</style>\n",
       "<table border=\"1\" class=\"dataframe\">\n",
       "  <thead>\n",
       "    <tr style=\"text-align: right;\">\n",
       "      <th></th>\n",
       "      <th>confirmed</th>\n",
       "      <th>confirmed_predicted</th>\n",
       "    </tr>\n",
       "  </thead>\n",
       "  <tbody>\n",
       "    <tr>\n",
       "      <td>2020-03-24</td>\n",
       "      <td>NaN</td>\n",
       "      <td>NaN</td>\n",
       "    </tr>\n",
       "    <tr>\n",
       "      <td>2020-03-25</td>\n",
       "      <td>NaN</td>\n",
       "      <td>NaN</td>\n",
       "    </tr>\n",
       "    <tr>\n",
       "      <td>2020-03-26</td>\n",
       "      <td>NaN</td>\n",
       "      <td>NaN</td>\n",
       "    </tr>\n",
       "    <tr>\n",
       "      <td>2020-03-27</td>\n",
       "      <td>NaN</td>\n",
       "      <td>NaN</td>\n",
       "    </tr>\n",
       "    <tr>\n",
       "      <td>2020-03-28</td>\n",
       "      <td>NaN</td>\n",
       "      <td>NaN</td>\n",
       "    </tr>\n",
       "    <tr>\n",
       "      <td>2020-03-29</td>\n",
       "      <td>NaN</td>\n",
       "      <td>NaN</td>\n",
       "    </tr>\n",
       "    <tr>\n",
       "      <td>2020-03-30</td>\n",
       "      <td>NaN</td>\n",
       "      <td>NaN</td>\n",
       "    </tr>\n",
       "    <tr>\n",
       "      <td>2020-03-31</td>\n",
       "      <td>NaN</td>\n",
       "      <td>NaN</td>\n",
       "    </tr>\n",
       "    <tr>\n",
       "      <td>2020-04-01</td>\n",
       "      <td>NaN</td>\n",
       "      <td>NaN</td>\n",
       "    </tr>\n",
       "    <tr>\n",
       "      <td>2020-04-02</td>\n",
       "      <td>NaN</td>\n",
       "      <td>NaN</td>\n",
       "    </tr>\n",
       "    <tr>\n",
       "      <td>2020-04-03</td>\n",
       "      <td>NaN</td>\n",
       "      <td>NaN</td>\n",
       "    </tr>\n",
       "    <tr>\n",
       "      <td>2020-04-04</td>\n",
       "      <td>NaN</td>\n",
       "      <td>NaN</td>\n",
       "    </tr>\n",
       "  </tbody>\n",
       "</table>\n",
       "</div>"
      ],
      "text/plain": [
       "           confirmed confirmed_predicted\n",
       "2020-03-24       NaN                 NaN\n",
       "2020-03-25       NaN                 NaN\n",
       "2020-03-26       NaN                 NaN\n",
       "2020-03-27       NaN                 NaN\n",
       "2020-03-28       NaN                 NaN\n",
       "2020-03-29       NaN                 NaN\n",
       "2020-03-30       NaN                 NaN\n",
       "2020-03-31       NaN                 NaN\n",
       "2020-04-01       NaN                 NaN\n",
       "2020-04-02       NaN                 NaN\n",
       "2020-04-03       NaN                 NaN\n",
       "2020-04-04       NaN                 NaN"
      ]
     },
     "execution_count": 57,
     "metadata": {},
     "output_type": "execute_result"
    }
   ],
   "source": [
    "df_forecast = pd.DataFrame(columns=[\"confirmed\",\"confirmed_predicted\"],index=time_series_array)\n",
    "df_forecast"
   ]
  },
  {
   "cell_type": "code",
   "execution_count": 58,
   "metadata": {},
   "outputs": [],
   "source": [
    "df_forecast.loc[:,\"confirmed_predicted\"] = true_prediction[:,0]\n",
    "df_forecast.loc[:,\"confirmed\"] = test[\"confirmed\"]"
   ]
  },
  {
   "cell_type": "code",
   "execution_count": 59,
   "metadata": {},
   "outputs": [
    {
     "data": {
      "text/html": [
       "<div>\n",
       "<style scoped>\n",
       "    .dataframe tbody tr th:only-of-type {\n",
       "        vertical-align: middle;\n",
       "    }\n",
       "\n",
       "    .dataframe tbody tr th {\n",
       "        vertical-align: top;\n",
       "    }\n",
       "\n",
       "    .dataframe thead th {\n",
       "        text-align: right;\n",
       "    }\n",
       "</style>\n",
       "<table border=\"1\" class=\"dataframe\">\n",
       "  <thead>\n",
       "    <tr style=\"text-align: right;\">\n",
       "      <th></th>\n",
       "      <th>confirmed</th>\n",
       "      <th>confirmed_predicted</th>\n",
       "    </tr>\n",
       "  </thead>\n",
       "  <tbody>\n",
       "    <tr>\n",
       "      <td>2020-03-24</td>\n",
       "      <td>24811.0</td>\n",
       "      <td>26679.536887</td>\n",
       "    </tr>\n",
       "    <tr>\n",
       "      <td>2020-03-25</td>\n",
       "      <td>27017.0</td>\n",
       "      <td>28607.049782</td>\n",
       "    </tr>\n",
       "    <tr>\n",
       "      <td>2020-03-26</td>\n",
       "      <td>29406.0</td>\n",
       "      <td>30672.890616</td>\n",
       "    </tr>\n",
       "    <tr>\n",
       "      <td>2020-03-27</td>\n",
       "      <td>32332.0</td>\n",
       "      <td>33100.575620</td>\n",
       "    </tr>\n",
       "    <tr>\n",
       "      <td>2020-03-28</td>\n",
       "      <td>35408.0</td>\n",
       "      <td>35994.683290</td>\n",
       "    </tr>\n",
       "    <tr>\n",
       "      <td>2020-03-29</td>\n",
       "      <td>NaN</td>\n",
       "      <td>39376.235932</td>\n",
       "    </tr>\n",
       "    <tr>\n",
       "      <td>2020-03-30</td>\n",
       "      <td>NaN</td>\n",
       "      <td>42670.567016</td>\n",
       "    </tr>\n",
       "    <tr>\n",
       "      <td>2020-03-31</td>\n",
       "      <td>NaN</td>\n",
       "      <td>46462.383004</td>\n",
       "    </tr>\n",
       "    <tr>\n",
       "      <td>2020-04-01</td>\n",
       "      <td>NaN</td>\n",
       "      <td>50894.850455</td>\n",
       "    </tr>\n",
       "    <tr>\n",
       "      <td>2020-04-02</td>\n",
       "      <td>NaN</td>\n",
       "      <td>56084.016574</td>\n",
       "    </tr>\n",
       "    <tr>\n",
       "      <td>2020-04-03</td>\n",
       "      <td>NaN</td>\n",
       "      <td>62164.862657</td>\n",
       "    </tr>\n",
       "    <tr>\n",
       "      <td>2020-04-04</td>\n",
       "      <td>NaN</td>\n",
       "      <td>69340.726157</td>\n",
       "    </tr>\n",
       "  </tbody>\n",
       "</table>\n",
       "</div>"
      ],
      "text/plain": [
       "            confirmed  confirmed_predicted\n",
       "2020-03-24    24811.0         26679.536887\n",
       "2020-03-25    27017.0         28607.049782\n",
       "2020-03-26    29406.0         30672.890616\n",
       "2020-03-27    32332.0         33100.575620\n",
       "2020-03-28    35408.0         35994.683290\n",
       "2020-03-29        NaN         39376.235932\n",
       "2020-03-30        NaN         42670.567016\n",
       "2020-03-31        NaN         46462.383004\n",
       "2020-04-01        NaN         50894.850455\n",
       "2020-04-02        NaN         56084.016574\n",
       "2020-04-03        NaN         62164.862657\n",
       "2020-04-04        NaN         69340.726157"
      ]
     },
     "execution_count": 59,
     "metadata": {},
     "output_type": "execute_result"
    }
   ],
   "source": [
    "df_forecast"
   ]
  },
  {
   "cell_type": "code",
   "execution_count": 60,
   "metadata": {},
   "outputs": [
    {
     "data": {
      "text/plain": [
       "<matplotlib.axes._subplots.AxesSubplot at 0x2418878de88>"
      ]
     },
     "execution_count": 60,
     "metadata": {},
     "output_type": "execute_result"
    },
    {
     "data": {
      "image/png": "[encoded data removed]",
      "text/plain": [
       "<Figure size 432x288 with 1 Axes>"
      ]
     },
     "metadata": {
      "needs_background": "light"
     },
     "output_type": "display_data"
    }
   ],
   "source": [
    "#plt.ylim([80000,85000])\n",
    "df_forecast.plot(title=\"India Predictions for next 7 days\")"
   ]
  },
  {
   "cell_type": "code",
   "execution_count": 61,
   "metadata": {},
   "outputs": [
    {
     "name": "stdout",
     "output_type": "stream",
     "text": [
      "MAPE is 4.351756344802602 %\n"
     ]
    }
   ],
   "source": [
    "MAPE = np.mean(np.abs(np.array(df_forecast[\"confirmed\"][:5]) - np.array(df_forecast[\"confirmed_predicted\"][:5]))/np.array(df_forecast[\"confirmed\"][:5]))\n",
    "print(\"MAPE is \" + str(MAPE*100) + \" %\")"
   ]
  },
  {
   "cell_type": "code",
   "execution_count": 62,
   "metadata": {},
   "outputs": [
    {
     "data": {
      "text/plain": [
       "8559606.008036884"
      ]
     },
     "execution_count": 62,
     "metadata": {},
     "output_type": "execute_result"
    }
   ],
   "source": [
    "sum_errs = np.sum((np.array(df_forecast[\"confirmed\"][:5]) - np.array(df_forecast[\"confirmed_predicted\"][:5]))**2)\n",
    "sum_errs"
   ]
  },
  {
   "cell_type": "code",
   "execution_count": 63,
   "metadata": {},
   "outputs": [
    {
     "data": {
      "text/plain": [
       "1689.1423867391882"
      ]
     },
     "execution_count": 63,
     "metadata": {},
     "output_type": "execute_result"
    }
   ],
   "source": [
    "stdev = np.sqrt(1/(5-2) * sum_errs)\n",
    "stdev"
   ]
  },
  {
   "cell_type": "code",
   "execution_count": 64,
   "metadata": {},
   "outputs": [
    {
     "data": {
      "text/plain": [
       "3310.7190780088085"
      ]
     },
     "execution_count": 64,
     "metadata": {},
     "output_type": "execute_result"
    }
   ],
   "source": [
    "# calculate prediction interval\n",
    "interval = 1.96 * stdev\n",
    "interval"
   ]
  },
  {
   "cell_type": "code",
   "execution_count": 65,
   "metadata": {},
   "outputs": [
    {
     "data": {
      "text/html": [
       "<div>\n",
       "<style scoped>\n",
       "    .dataframe tbody tr th:only-of-type {\n",
       "        vertical-align: middle;\n",
       "    }\n",
       "\n",
       "    .dataframe tbody tr th {\n",
       "        vertical-align: top;\n",
       "    }\n",
       "\n",
       "    .dataframe thead th {\n",
       "        text-align: right;\n",
       "    }\n",
       "</style>\n",
       "<table border=\"1\" class=\"dataframe\">\n",
       "  <thead>\n",
       "    <tr style=\"text-align: right;\">\n",
       "      <th></th>\n",
       "      <th>confirmed</th>\n",
       "      <th>confirmed_predicted</th>\n",
       "      <th>confirm_min</th>\n",
       "      <th>confirm_max</th>\n",
       "    </tr>\n",
       "  </thead>\n",
       "  <tbody>\n",
       "    <tr>\n",
       "      <td>2020-03-24</td>\n",
       "      <td>24811.0</td>\n",
       "      <td>26679.536887</td>\n",
       "      <td>23368.817809</td>\n",
       "      <td>29990.255965</td>\n",
       "    </tr>\n",
       "    <tr>\n",
       "      <td>2020-03-25</td>\n",
       "      <td>27017.0</td>\n",
       "      <td>28607.049782</td>\n",
       "      <td>25296.330704</td>\n",
       "      <td>31917.768860</td>\n",
       "    </tr>\n",
       "    <tr>\n",
       "      <td>2020-03-26</td>\n",
       "      <td>29406.0</td>\n",
       "      <td>30672.890616</td>\n",
       "      <td>27362.171538</td>\n",
       "      <td>33983.609694</td>\n",
       "    </tr>\n",
       "    <tr>\n",
       "      <td>2020-03-27</td>\n",
       "      <td>32332.0</td>\n",
       "      <td>33100.575620</td>\n",
       "      <td>29789.856542</td>\n",
       "      <td>36411.294698</td>\n",
       "    </tr>\n",
       "    <tr>\n",
       "      <td>2020-03-28</td>\n",
       "      <td>35408.0</td>\n",
       "      <td>35994.683290</td>\n",
       "      <td>32683.964212</td>\n",
       "      <td>39305.402368</td>\n",
       "    </tr>\n",
       "    <tr>\n",
       "      <td>2020-03-29</td>\n",
       "      <td>NaN</td>\n",
       "      <td>39376.235932</td>\n",
       "      <td>36065.516854</td>\n",
       "      <td>42686.955010</td>\n",
       "    </tr>\n",
       "    <tr>\n",
       "      <td>2020-03-30</td>\n",
       "      <td>NaN</td>\n",
       "      <td>42670.567016</td>\n",
       "      <td>39359.847938</td>\n",
       "      <td>45981.286094</td>\n",
       "    </tr>\n",
       "    <tr>\n",
       "      <td>2020-03-31</td>\n",
       "      <td>NaN</td>\n",
       "      <td>46462.383004</td>\n",
       "      <td>43151.663926</td>\n",
       "      <td>49773.102082</td>\n",
       "    </tr>\n",
       "    <tr>\n",
       "      <td>2020-04-01</td>\n",
       "      <td>NaN</td>\n",
       "      <td>50894.850455</td>\n",
       "      <td>47584.131377</td>\n",
       "      <td>54205.569533</td>\n",
       "    </tr>\n",
       "    <tr>\n",
       "      <td>2020-04-02</td>\n",
       "      <td>NaN</td>\n",
       "      <td>56084.016574</td>\n",
       "      <td>52773.297496</td>\n",
       "      <td>59394.735652</td>\n",
       "    </tr>\n",
       "    <tr>\n",
       "      <td>2020-04-03</td>\n",
       "      <td>NaN</td>\n",
       "      <td>62164.862657</td>\n",
       "      <td>58854.143579</td>\n",
       "      <td>65475.581735</td>\n",
       "    </tr>\n",
       "    <tr>\n",
       "      <td>2020-04-04</td>\n",
       "      <td>NaN</td>\n",
       "      <td>69340.726157</td>\n",
       "      <td>66030.007079</td>\n",
       "      <td>72651.445235</td>\n",
       "    </tr>\n",
       "  </tbody>\n",
       "</table>\n",
       "</div>"
      ],
      "text/plain": [
       "            confirmed  confirmed_predicted   confirm_min   confirm_max\n",
       "2020-03-24    24811.0         26679.536887  23368.817809  29990.255965\n",
       "2020-03-25    27017.0         28607.049782  25296.330704  31917.768860\n",
       "2020-03-26    29406.0         30672.890616  27362.171538  33983.609694\n",
       "2020-03-27    32332.0         33100.575620  29789.856542  36411.294698\n",
       "2020-03-28    35408.0         35994.683290  32683.964212  39305.402368\n",
       "2020-03-29        NaN         39376.235932  36065.516854  42686.955010\n",
       "2020-03-30        NaN         42670.567016  39359.847938  45981.286094\n",
       "2020-03-31        NaN         46462.383004  43151.663926  49773.102082\n",
       "2020-04-01        NaN         50894.850455  47584.131377  54205.569533\n",
       "2020-04-02        NaN         56084.016574  52773.297496  59394.735652\n",
       "2020-04-03        NaN         62164.862657  58854.143579  65475.581735\n",
       "2020-04-04        NaN         69340.726157  66030.007079  72651.445235"
      ]
     },
     "execution_count": 65,
     "metadata": {},
     "output_type": "execute_result"
    }
   ],
   "source": [
    "df_forecast[\"confirm_min\"] = df_forecast[\"confirmed_predicted\"] - interval\n",
    "df_forecast[\"confirm_max\"] = df_forecast[\"confirmed_predicted\"] + interval\n",
    "df_forecast"
   ]
  },
  {
   "cell_type": "code",
   "execution_count": 66,
   "metadata": {},
   "outputs": [
    {
     "data": {
      "text/html": [
       "<div>\n",
       "<style scoped>\n",
       "    .dataframe tbody tr th:only-of-type {\n",
       "        vertical-align: middle;\n",
       "    }\n",
       "\n",
       "    .dataframe tbody tr th {\n",
       "        vertical-align: top;\n",
       "    }\n",
       "\n",
       "    .dataframe thead th {\n",
       "        text-align: right;\n",
       "    }\n",
       "</style>\n",
       "<table border=\"1\" class=\"dataframe\">\n",
       "  <thead>\n",
       "    <tr style=\"text-align: right;\">\n",
       "      <th></th>\n",
       "      <th>confirmed</th>\n",
       "      <th>confirmed_predicted</th>\n",
       "      <th>confirm_min</th>\n",
       "      <th>confirm_max</th>\n",
       "      <th>Model Accuracy</th>\n",
       "    </tr>\n",
       "  </thead>\n",
       "  <tbody>\n",
       "    <tr>\n",
       "      <td>2020-03-24</td>\n",
       "      <td>24811.0</td>\n",
       "      <td>26679.536887</td>\n",
       "      <td>23368.817809</td>\n",
       "      <td>29990.255965</td>\n",
       "      <td>0.96</td>\n",
       "    </tr>\n",
       "    <tr>\n",
       "      <td>2020-03-25</td>\n",
       "      <td>27017.0</td>\n",
       "      <td>28607.049782</td>\n",
       "      <td>25296.330704</td>\n",
       "      <td>31917.768860</td>\n",
       "      <td>0.96</td>\n",
       "    </tr>\n",
       "    <tr>\n",
       "      <td>2020-03-26</td>\n",
       "      <td>29406.0</td>\n",
       "      <td>30672.890616</td>\n",
       "      <td>27362.171538</td>\n",
       "      <td>33983.609694</td>\n",
       "      <td>0.96</td>\n",
       "    </tr>\n",
       "    <tr>\n",
       "      <td>2020-03-27</td>\n",
       "      <td>32332.0</td>\n",
       "      <td>33100.575620</td>\n",
       "      <td>29789.856542</td>\n",
       "      <td>36411.294698</td>\n",
       "      <td>0.96</td>\n",
       "    </tr>\n",
       "    <tr>\n",
       "      <td>2020-03-28</td>\n",
       "      <td>35408.0</td>\n",
       "      <td>35994.683290</td>\n",
       "      <td>32683.964212</td>\n",
       "      <td>39305.402368</td>\n",
       "      <td>0.96</td>\n",
       "    </tr>\n",
       "    <tr>\n",
       "      <td>2020-03-29</td>\n",
       "      <td>NaN</td>\n",
       "      <td>39376.235932</td>\n",
       "      <td>36065.516854</td>\n",
       "      <td>42686.955010</td>\n",
       "      <td>0.96</td>\n",
       "    </tr>\n",
       "    <tr>\n",
       "      <td>2020-03-30</td>\n",
       "      <td>NaN</td>\n",
       "      <td>42670.567016</td>\n",
       "      <td>39359.847938</td>\n",
       "      <td>45981.286094</td>\n",
       "      <td>0.96</td>\n",
       "    </tr>\n",
       "    <tr>\n",
       "      <td>2020-03-31</td>\n",
       "      <td>NaN</td>\n",
       "      <td>46462.383004</td>\n",
       "      <td>43151.663926</td>\n",
       "      <td>49773.102082</td>\n",
       "      <td>0.96</td>\n",
       "    </tr>\n",
       "    <tr>\n",
       "      <td>2020-04-01</td>\n",
       "      <td>NaN</td>\n",
       "      <td>50894.850455</td>\n",
       "      <td>47584.131377</td>\n",
       "      <td>54205.569533</td>\n",
       "      <td>0.96</td>\n",
       "    </tr>\n",
       "    <tr>\n",
       "      <td>2020-04-02</td>\n",
       "      <td>NaN</td>\n",
       "      <td>56084.016574</td>\n",
       "      <td>52773.297496</td>\n",
       "      <td>59394.735652</td>\n",
       "      <td>0.96</td>\n",
       "    </tr>\n",
       "    <tr>\n",
       "      <td>2020-04-03</td>\n",
       "      <td>NaN</td>\n",
       "      <td>62164.862657</td>\n",
       "      <td>58854.143579</td>\n",
       "      <td>65475.581735</td>\n",
       "      <td>0.96</td>\n",
       "    </tr>\n",
       "    <tr>\n",
       "      <td>2020-04-04</td>\n",
       "      <td>NaN</td>\n",
       "      <td>69340.726157</td>\n",
       "      <td>66030.007079</td>\n",
       "      <td>72651.445235</td>\n",
       "      <td>0.96</td>\n",
       "    </tr>\n",
       "  </tbody>\n",
       "</table>\n",
       "</div>"
      ],
      "text/plain": [
       "            confirmed  confirmed_predicted   confirm_min   confirm_max  \\\n",
       "2020-03-24    24811.0         26679.536887  23368.817809  29990.255965   \n",
       "2020-03-25    27017.0         28607.049782  25296.330704  31917.768860   \n",
       "2020-03-26    29406.0         30672.890616  27362.171538  33983.609694   \n",
       "2020-03-27    32332.0         33100.575620  29789.856542  36411.294698   \n",
       "2020-03-28    35408.0         35994.683290  32683.964212  39305.402368   \n",
       "2020-03-29        NaN         39376.235932  36065.516854  42686.955010   \n",
       "2020-03-30        NaN         42670.567016  39359.847938  45981.286094   \n",
       "2020-03-31        NaN         46462.383004  43151.663926  49773.102082   \n",
       "2020-04-01        NaN         50894.850455  47584.131377  54205.569533   \n",
       "2020-04-02        NaN         56084.016574  52773.297496  59394.735652   \n",
       "2020-04-03        NaN         62164.862657  58854.143579  65475.581735   \n",
       "2020-04-04        NaN         69340.726157  66030.007079  72651.445235   \n",
       "\n",
       "            Model Accuracy  \n",
       "2020-03-24            0.96  \n",
       "2020-03-25            0.96  \n",
       "2020-03-26            0.96  \n",
       "2020-03-27            0.96  \n",
       "2020-03-28            0.96  \n",
       "2020-03-29            0.96  \n",
       "2020-03-30            0.96  \n",
       "2020-03-31            0.96  \n",
       "2020-04-01            0.96  \n",
       "2020-04-02            0.96  \n",
       "2020-04-03            0.96  \n",
       "2020-04-04            0.96  "
      ]
     },
     "execution_count": 66,
     "metadata": {},
     "output_type": "execute_result"
    }
   ],
   "source": [
    "df_forecast[\"Model Accuracy\"] = round((1-MAPE),2)\n",
    "df_forecast"
   ]
  },
  {
   "cell_type": "code",
   "execution_count": 68,
   "metadata": {},
   "outputs": [
    {
     "data": {
      "text/html": [
       "<div>\n",
       "<style scoped>\n",
       "    .dataframe tbody tr th:only-of-type {\n",
       "        vertical-align: middle;\n",
       "    }\n",
       "\n",
       "    .dataframe tbody tr th {\n",
       "        vertical-align: top;\n",
       "    }\n",
       "\n",
       "    .dataframe thead th {\n",
       "        text-align: right;\n",
       "    }\n",
       "</style>\n",
       "<table border=\"1\" class=\"dataframe\">\n",
       "  <thead>\n",
       "    <tr style=\"text-align: right;\">\n",
       "      <th></th>\n",
       "      <th>confirmed</th>\n",
       "      <th>confirmed_predicted</th>\n",
       "      <th>confirm_min</th>\n",
       "      <th>confirm_max</th>\n",
       "      <th>Model Accuracy</th>\n",
       "      <th>Country</th>\n",
       "      <th>Execution date</th>\n",
       "    </tr>\n",
       "  </thead>\n",
       "  <tbody>\n",
       "    <tr>\n",
       "      <td>2020-03-24</td>\n",
       "      <td>24811.0</td>\n",
       "      <td>26679.536887</td>\n",
       "      <td>23368.817809</td>\n",
       "      <td>29990.255965</td>\n",
       "      <td>0.96</td>\n",
       "      <td>Iran</td>\n",
       "      <td>2020-03-29</td>\n",
       "    </tr>\n",
       "    <tr>\n",
       "      <td>2020-03-25</td>\n",
       "      <td>27017.0</td>\n",
       "      <td>28607.049782</td>\n",
       "      <td>25296.330704</td>\n",
       "      <td>31917.768860</td>\n",
       "      <td>0.96</td>\n",
       "      <td>Iran</td>\n",
       "      <td>2020-03-29</td>\n",
       "    </tr>\n",
       "    <tr>\n",
       "      <td>2020-03-26</td>\n",
       "      <td>29406.0</td>\n",
       "      <td>30672.890616</td>\n",
       "      <td>27362.171538</td>\n",
       "      <td>33983.609694</td>\n",
       "      <td>0.96</td>\n",
       "      <td>Iran</td>\n",
       "      <td>2020-03-29</td>\n",
       "    </tr>\n",
       "    <tr>\n",
       "      <td>2020-03-27</td>\n",
       "      <td>32332.0</td>\n",
       "      <td>33100.575620</td>\n",
       "      <td>29789.856542</td>\n",
       "      <td>36411.294698</td>\n",
       "      <td>0.96</td>\n",
       "      <td>Iran</td>\n",
       "      <td>2020-03-29</td>\n",
       "    </tr>\n",
       "    <tr>\n",
       "      <td>2020-03-28</td>\n",
       "      <td>35408.0</td>\n",
       "      <td>35994.683290</td>\n",
       "      <td>32683.964212</td>\n",
       "      <td>39305.402368</td>\n",
       "      <td>0.96</td>\n",
       "      <td>Iran</td>\n",
       "      <td>2020-03-29</td>\n",
       "    </tr>\n",
       "    <tr>\n",
       "      <td>2020-03-29</td>\n",
       "      <td>NaN</td>\n",
       "      <td>39376.235932</td>\n",
       "      <td>36065.516854</td>\n",
       "      <td>42686.955010</td>\n",
       "      <td>0.96</td>\n",
       "      <td>Iran</td>\n",
       "      <td>2020-03-29</td>\n",
       "    </tr>\n",
       "    <tr>\n",
       "      <td>2020-03-30</td>\n",
       "      <td>NaN</td>\n",
       "      <td>42670.567016</td>\n",
       "      <td>39359.847938</td>\n",
       "      <td>45981.286094</td>\n",
       "      <td>0.96</td>\n",
       "      <td>Iran</td>\n",
       "      <td>2020-03-29</td>\n",
       "    </tr>\n",
       "    <tr>\n",
       "      <td>2020-03-31</td>\n",
       "      <td>NaN</td>\n",
       "      <td>46462.383004</td>\n",
       "      <td>43151.663926</td>\n",
       "      <td>49773.102082</td>\n",
       "      <td>0.96</td>\n",
       "      <td>Iran</td>\n",
       "      <td>2020-03-29</td>\n",
       "    </tr>\n",
       "    <tr>\n",
       "      <td>2020-04-01</td>\n",
       "      <td>NaN</td>\n",
       "      <td>50894.850455</td>\n",
       "      <td>47584.131377</td>\n",
       "      <td>54205.569533</td>\n",
       "      <td>0.96</td>\n",
       "      <td>Iran</td>\n",
       "      <td>2020-03-29</td>\n",
       "    </tr>\n",
       "    <tr>\n",
       "      <td>2020-04-02</td>\n",
       "      <td>NaN</td>\n",
       "      <td>56084.016574</td>\n",
       "      <td>52773.297496</td>\n",
       "      <td>59394.735652</td>\n",
       "      <td>0.96</td>\n",
       "      <td>Iran</td>\n",
       "      <td>2020-03-29</td>\n",
       "    </tr>\n",
       "    <tr>\n",
       "      <td>2020-04-03</td>\n",
       "      <td>NaN</td>\n",
       "      <td>62164.862657</td>\n",
       "      <td>58854.143579</td>\n",
       "      <td>65475.581735</td>\n",
       "      <td>0.96</td>\n",
       "      <td>Iran</td>\n",
       "      <td>2020-03-29</td>\n",
       "    </tr>\n",
       "    <tr>\n",
       "      <td>2020-04-04</td>\n",
       "      <td>NaN</td>\n",
       "      <td>69340.726157</td>\n",
       "      <td>66030.007079</td>\n",
       "      <td>72651.445235</td>\n",
       "      <td>0.96</td>\n",
       "      <td>Iran</td>\n",
       "      <td>2020-03-29</td>\n",
       "    </tr>\n",
       "  </tbody>\n",
       "</table>\n",
       "</div>"
      ],
      "text/plain": [
       "            confirmed  confirmed_predicted   confirm_min   confirm_max  \\\n",
       "2020-03-24    24811.0         26679.536887  23368.817809  29990.255965   \n",
       "2020-03-25    27017.0         28607.049782  25296.330704  31917.768860   \n",
       "2020-03-26    29406.0         30672.890616  27362.171538  33983.609694   \n",
       "2020-03-27    32332.0         33100.575620  29789.856542  36411.294698   \n",
       "2020-03-28    35408.0         35994.683290  32683.964212  39305.402368   \n",
       "2020-03-29        NaN         39376.235932  36065.516854  42686.955010   \n",
       "2020-03-30        NaN         42670.567016  39359.847938  45981.286094   \n",
       "2020-03-31        NaN         46462.383004  43151.663926  49773.102082   \n",
       "2020-04-01        NaN         50894.850455  47584.131377  54205.569533   \n",
       "2020-04-02        NaN         56084.016574  52773.297496  59394.735652   \n",
       "2020-04-03        NaN         62164.862657  58854.143579  65475.581735   \n",
       "2020-04-04        NaN         69340.726157  66030.007079  72651.445235   \n",
       "\n",
       "            Model Accuracy Country Execution date  \n",
       "2020-03-24            0.96    Iran     2020-03-29  \n",
       "2020-03-25            0.96    Iran     2020-03-29  \n",
       "2020-03-26            0.96    Iran     2020-03-29  \n",
       "2020-03-27            0.96    Iran     2020-03-29  \n",
       "2020-03-28            0.96    Iran     2020-03-29  \n",
       "2020-03-29            0.96    Iran     2020-03-29  \n",
       "2020-03-30            0.96    Iran     2020-03-29  \n",
       "2020-03-31            0.96    Iran     2020-03-29  \n",
       "2020-04-01            0.96    Iran     2020-03-29  \n",
       "2020-04-02            0.96    Iran     2020-03-29  \n",
       "2020-04-03            0.96    Iran     2020-03-29  \n",
       "2020-04-04            0.96    Iran     2020-03-29  "
      ]
     },
     "execution_count": 68,
     "metadata": {},
     "output_type": "execute_result"
    }
   ],
   "source": [
    "from datetime import datetime\n",
    "df_forecast[\"Country\"] = country\n",
    "df_forecast[\"Execution date\"] = str(datetime.now()).split()[0]\n",
    "df_forecast"
   ]
  },
  {
   "cell_type": "code",
   "execution_count": 510,
   "metadata": {},
   "outputs": [],
   "source": [
    "#df_forecast.to_excel(\"output/Iran_confirmed.xlsx\")"
   ]
  },
  {
   "cell_type": "code",
   "execution_count": 69,
   "metadata": {},
   "outputs": [],
   "source": [
    "### save model\n",
    "model.save(\"models/confirmed_{0}_{1}.h5\".format(country,str(datetime.now()).split()[0]))"
   ]
  },
  {
   "cell_type": "code",
   "execution_count": 75,
   "metadata": {},
   "outputs": [
    {
     "data": {
      "text/plain": [
       "<matplotlib.axes._subplots.AxesSubplot at 0x241898f0a88>"
      ]
     },
     "execution_count": 75,
     "metadata": {},
     "output_type": "execute_result"
    },
    {
     "data": {
      "image/png": "[encoded data removed]",
      "text/plain": [
       "<Figure size 432x288 with 1 Axes>"
      ]
     },
     "metadata": {
      "needs_background": "light"
     },
     "output_type": "display_data"
    }
   ],
   "source": [
    "df_forecast.iloc[:,:4].plot()"
   ]
  },
  {
   "cell_type": "code",
   "execution_count": 100,
   "metadata": {},
   "outputs": [
    {
     "data": {
      "image/png": "[encoded data removed]",
      "text/plain": [
       "<Figure size 720x360 with 1 Axes>"
      ]
     },
     "metadata": {
      "needs_background": "light"
     },
     "output_type": "display_data"
    }
   ],
   "source": [
    "fig= plt.figure(figsize=(10,5))\n",
    "plt.title(\"{} - Results\".format(country))\n",
    "plt.plot(df_forecast.index,df_forecast[\"confirmed\"],label=\"confirmed\")\n",
    "plt.plot(df_forecast.index,df_forecast[\"confirmed_predicted\"],label=\"confirmed_predicted\")\n",
    "#ax.fill_between(x, (y-ci), (y+ci), color='b', alpha=.1)\n",
    "plt.fill_between(df_forecast.index,df_forecast[\"confirm_min\"],df_forecast[\"confirm_max\"],color=\"indigo\",alpha=0.09,label=\"Confidence Interval\")\n",
    "plt.legend()\n",
    "plt.show()"
   ]
  },
  {
   "cell_type": "markdown",
   "metadata": {},
   "source": [
    "## load a saved model"
   ]
  },
  {
   "cell_type": "code",
   "execution_count": 76,
   "metadata": {},
   "outputs": [],
   "source": [
    "from keras.models import load_model\n",
    "name = \"models/confirmed_{0}_{1}.h5\".format(country,str(datetime.now()).split()[0])\n",
    "model1 = load_model(name)"
   ]
  },
  {
   "cell_type": "code",
   "execution_count": 77,
   "metadata": {},
   "outputs": [
    {
     "name": "stdout",
     "output_type": "stream",
     "text": [
      "Model: \"sequential_1\"\n",
      "_________________________________________________________________\n",
      "Layer (type)                 Output Shape              Param #   \n",
      "=================================================================\n",
      "lstm_1 (LSTM)                (None, 150)               91200     \n",
      "_________________________________________________________________\n",
      "dense_1 (Dense)              (None, 75)                11325     \n",
      "_________________________________________________________________\n",
      "dense_2 (Dense)              (None, 1)                 76        \n",
      "=================================================================\n",
      "Total params: 102,601\n",
      "Trainable params: 102,601\n",
      "Non-trainable params: 0\n",
      "_________________________________________________________________\n"
     ]
    }
   ],
   "source": [
    "model1.summary()"
   ]
  },
  {
   "cell_type": "code",
   "execution_count": null,
   "metadata": {},
   "outputs": [],
   "source": []
  }
 ],
 "metadata": {
  "kernelspec": {
   "display_name": "Python 3",
   "language": "python",
   "name": "python3"
  },
  "language_info": {
   "codemirror_mode": {
    "name": "ipython",
    "version": 3
   },
   "file_extension": ".py",
   "mimetype": "text/x-python",
   "name": "python",
   "nbconvert_exporter": "python",
   "pygments_lexer": "ipython3",
   "version": "3.7.4"
  }
 },
 "nbformat": 4,
 "nbformat_minor": 2
}
